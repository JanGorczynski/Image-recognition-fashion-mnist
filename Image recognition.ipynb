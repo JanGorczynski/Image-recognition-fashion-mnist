{
 "cells": [
  {
   "cell_type": "markdown",
   "id": "9fe57e12",
   "metadata": {},
   "source": [
    "# Importing libraries and dataset"
   ]
  },
  {
   "cell_type": "code",
   "execution_count": 117,
   "id": "2ef0aa97",
   "metadata": {},
   "outputs": [],
   "source": [
    "import numpy as np\n",
    "import tensorflow as tf\n",
    "import pandas as pd\n",
    "import matplotlib.pyplot as plt\n",
    "import seaborn as sns\n",
    "%matplotlib inline"
   ]
  },
  {
   "cell_type": "code",
   "execution_count": 118,
   "id": "39f07bb2",
   "metadata": {},
   "outputs": [],
   "source": [
    "(X_train, y_train), (X_test, y_test) = tf.keras.datasets.fashion_mnist.load_data()"
   ]
  },
  {
   "cell_type": "markdown",
   "id": "69443797",
   "metadata": {},
   "source": [
    "# Basic data exploration\n",
    "The y_train and y_test sginify what type of clothing is on the images in X_train and X_test, numbers in those columns represent:\n",
    "0 T-shirt/top\n",
    "1 Trouser\n",
    "2 Pullover\n",
    "3 Dress\n",
    "4 Coat\n",
    "5 Sandal\n",
    "6 Shirt\n",
    "7 Sneaker\n",
    "8 Bag\n",
    "9 Ankle boot"
   ]
  },
  {
   "cell_type": "code",
   "execution_count": 119,
   "id": "03026e66",
   "metadata": {},
   "outputs": [
    {
     "name": "stdout",
     "output_type": "stream",
     "text": [
      "(60000, 28, 28)\n"
     ]
    }
   ],
   "source": [
    "print(X_train.shape)"
   ]
  },
  {
   "cell_type": "code",
   "execution_count": 120,
   "id": "7f88631c",
   "metadata": {},
   "outputs": [
    {
     "name": "stdout",
     "output_type": "stream",
     "text": [
      "(60000,)\n"
     ]
    }
   ],
   "source": [
    "print(y_train.shape)"
   ]
  },
  {
   "cell_type": "code",
   "execution_count": 121,
   "id": "2a68b2f3",
   "metadata": {},
   "outputs": [
    {
     "name": "stdout",
     "output_type": "stream",
     "text": [
      "[[  0   0   0   0   0   0   0   0   0   0   0   0   0   0   0   0   0   0\n",
      "    0   0   0   0   0   0   0   0   0   0]\n",
      " [  0   0   0   0   0   0   0   0   0   0   0   0   0   0   0   0   0   0\n",
      "    0   0   0   0   0   0   0   0   0   0]\n",
      " [  0   0   0   0   0   0   0   0   0   0   0   0   0   0   0   0   0   0\n",
      "    0   0   0   0   0   0   0   0   0   0]\n",
      " [  0   0   0   0   0   0   0   0   0   0   0   0   1   0   0  13  73   0\n",
      "    0   1   4   0   0   0   0   1   1   0]\n",
      " [  0   0   0   0   0   0   0   0   0   0   0   0   3   0  36 136 127  62\n",
      "   54   0   0   0   1   3   4   0   0   3]\n",
      " [  0   0   0   0   0   0   0   0   0   0   0   0   6   0 102 204 176 134\n",
      "  144 123  23   0   0   0   0  12  10   0]\n",
      " [  0   0   0   0   0   0   0   0   0   0   0   0   0   0 155 236 207 178\n",
      "  107 156 161 109  64  23  77 130  72  15]\n",
      " [  0   0   0   0   0   0   0   0   0   0   0   1   0  69 207 223 218 216\n",
      "  216 163 127 121 122 146 141  88 172  66]\n",
      " [  0   0   0   0   0   0   0   0   0   1   1   1   0 200 232 232 233 229\n",
      "  223 223 215 213 164 127 123 196 229   0]\n",
      " [  0   0   0   0   0   0   0   0   0   0   0   0   0 183 225 216 223 228\n",
      "  235 227 224 222 224 221 223 245 173   0]\n",
      " [  0   0   0   0   0   0   0   0   0   0   0   0   0 193 228 218 213 198\n",
      "  180 212 210 211 213 223 220 243 202   0]\n",
      " [  0   0   0   0   0   0   0   0   0   1   3   0  12 219 220 212 218 192\n",
      "  169 227 208 218 224 212 226 197 209  52]\n",
      " [  0   0   0   0   0   0   0   0   0   0   6   0  99 244 222 220 218 203\n",
      "  198 221 215 213 222 220 245 119 167  56]\n",
      " [  0   0   0   0   0   0   0   0   0   4   0   0  55 236 228 230 228 240\n",
      "  232 213 218 223 234 217 217 209  92   0]\n",
      " [  0   0   1   4   6   7   2   0   0   0   0   0 237 226 217 223 222 219\n",
      "  222 221 216 223 229 215 218 255  77   0]\n",
      " [  0   3   0   0   0   0   0   0   0  62 145 204 228 207 213 221 218 208\n",
      "  211 218 224 223 219 215 224 244 159   0]\n",
      " [  0   0   0   0  18  44  82 107 189 228 220 222 217 226 200 205 211 230\n",
      "  224 234 176 188 250 248 233 238 215   0]\n",
      " [  0  57 187 208 224 221 224 208 204 214 208 209 200 159 245 193 206 223\n",
      "  255 255 221 234 221 211 220 232 246   0]\n",
      " [  3 202 228 224 221 211 211 214 205 205 205 220 240  80 150 255 229 221\n",
      "  188 154 191 210 204 209 222 228 225   0]\n",
      " [ 98 233 198 210 222 229 229 234 249 220 194 215 217 241  65  73 106 117\n",
      "  168 219 221 215 217 223 223 224 229  29]\n",
      " [ 75 204 212 204 193 205 211 225 216 185 197 206 198 213 240 195 227 245\n",
      "  239 223 218 212 209 222 220 221 230  67]\n",
      " [ 48 203 183 194 213 197 185 190 194 192 202 214 219 221 220 236 225 216\n",
      "  199 206 186 181 177 172 181 205 206 115]\n",
      " [  0 122 219 193 179 171 183 196 204 210 213 207 211 210 200 196 194 191\n",
      "  195 191 198 192 176 156 167 177 210  92]\n",
      " [  0   0  74 189 212 191 175 172 175 181 185 188 189 188 193 198 204 209\n",
      "  210 210 211 188 188 194 192 216 170   0]\n",
      " [  2   0   0   0  66 200 222 237 239 242 246 243 244 221 220 193 191 179\n",
      "  182 182 181 176 166 168  99  58   0   0]\n",
      " [  0   0   0   0   0   0   0  40  61  44  72  41  35   0   0   0   0   0\n",
      "    0   0   0   0   0   0   0   0   0   0]\n",
      " [  0   0   0   0   0   0   0   0   0   0   0   0   0   0   0   0   0   0\n",
      "    0   0   0   0   0   0   0   0   0   0]\n",
      " [  0   0   0   0   0   0   0   0   0   0   0   0   0   0   0   0   0   0\n",
      "    0   0   0   0   0   0   0   0   0   0]]\n"
     ]
    }
   ],
   "source": [
    "print(X_train[0])"
   ]
  },
  {
   "cell_type": "code",
   "execution_count": 122,
   "id": "749ae841",
   "metadata": {},
   "outputs": [
    {
     "name": "stdout",
     "output_type": "stream",
     "text": [
      "9\n"
     ]
    }
   ],
   "source": [
    "print(y_train[0])"
   ]
  },
  {
   "cell_type": "code",
   "execution_count": 123,
   "id": "64a83278",
   "metadata": {},
   "outputs": [
    {
     "data": {
      "text/plain": [
       "<Axes: >"
      ]
     },
     "execution_count": 123,
     "metadata": {},
     "output_type": "execute_result"
    },
    {
     "data": {
      "image/png": "[encoded data removed]",
      "text/plain": [
       "<Figure size 640x480 with 2 Axes>"
      ]
     },
     "metadata": {},
     "output_type": "display_data"
    }
   ],
   "source": [
    "sns.heatmap(X_train[6321])"
   ]
  },
  {
   "cell_type": "markdown",
   "id": "96e7cbde",
   "metadata": {},
   "source": [
    "# Data preparation"
   ]
  },
  {
   "cell_type": "markdown",
   "id": "153bf164",
   "metadata": {},
   "source": [
    "Normalization of data"
   ]
  },
  {
   "cell_type": "code",
   "execution_count": 124,
   "id": "d8481d48",
   "metadata": {},
   "outputs": [],
   "source": [
    "X_test = X_test/255\n",
    "X_train = X_train/255"
   ]
  },
  {
   "cell_type": "code",
   "execution_count": 125,
   "id": "bb27ed1e",
   "metadata": {},
   "outputs": [
    {
     "name": "stdout",
     "output_type": "stream",
     "text": [
      "[[0.         0.         0.         0.         0.         0.\n",
      "  0.         0.         0.         0.         0.         0.\n",
      "  0.         0.         0.         0.         0.         0.\n",
      "  0.         0.         0.         0.         0.         0.\n",
      "  0.         0.         0.         0.        ]\n",
      " [0.         0.         0.         0.         0.         0.\n",
      "  0.         0.         0.         0.         0.         0.\n",
      "  0.         0.         0.         0.         0.         0.\n",
      "  0.         0.         0.         0.         0.         0.\n",
      "  0.         0.         0.         0.        ]\n",
      " [0.         0.         0.         0.         0.         0.\n",
      "  0.         0.         0.         0.         0.         0.\n",
      "  0.         0.         0.         0.         0.         0.\n",
      "  0.         0.         0.         0.         0.         0.\n",
      "  0.         0.         0.         0.        ]\n",
      " [0.         0.         0.         0.         0.         0.\n",
      "  0.         0.         0.         0.         0.         0.\n",
      "  0.00392157 0.         0.         0.05098039 0.28627451 0.\n",
      "  0.         0.00392157 0.01568627 0.         0.         0.\n",
      "  0.         0.00392157 0.00392157 0.        ]\n",
      " [0.         0.         0.         0.         0.         0.\n",
      "  0.         0.         0.         0.         0.         0.\n",
      "  0.01176471 0.         0.14117647 0.53333333 0.49803922 0.24313725\n",
      "  0.21176471 0.         0.         0.         0.00392157 0.01176471\n",
      "  0.01568627 0.         0.         0.01176471]\n",
      " [0.         0.         0.         0.         0.         0.\n",
      "  0.         0.         0.         0.         0.         0.\n",
      "  0.02352941 0.         0.4        0.8        0.69019608 0.5254902\n",
      "  0.56470588 0.48235294 0.09019608 0.         0.         0.\n",
      "  0.         0.04705882 0.03921569 0.        ]\n",
      " [0.         0.         0.         0.         0.         0.\n",
      "  0.         0.         0.         0.         0.         0.\n",
      "  0.         0.         0.60784314 0.9254902  0.81176471 0.69803922\n",
      "  0.41960784 0.61176471 0.63137255 0.42745098 0.25098039 0.09019608\n",
      "  0.30196078 0.50980392 0.28235294 0.05882353]\n",
      " [0.         0.         0.         0.         0.         0.\n",
      "  0.         0.         0.         0.         0.         0.00392157\n",
      "  0.         0.27058824 0.81176471 0.8745098  0.85490196 0.84705882\n",
      "  0.84705882 0.63921569 0.49803922 0.4745098  0.47843137 0.57254902\n",
      "  0.55294118 0.34509804 0.6745098  0.25882353]\n",
      " [0.         0.         0.         0.         0.         0.\n",
      "  0.         0.         0.         0.00392157 0.00392157 0.00392157\n",
      "  0.         0.78431373 0.90980392 0.90980392 0.91372549 0.89803922\n",
      "  0.8745098  0.8745098  0.84313725 0.83529412 0.64313725 0.49803922\n",
      "  0.48235294 0.76862745 0.89803922 0.        ]\n",
      " [0.         0.         0.         0.         0.         0.\n",
      "  0.         0.         0.         0.         0.         0.\n",
      "  0.         0.71764706 0.88235294 0.84705882 0.8745098  0.89411765\n",
      "  0.92156863 0.89019608 0.87843137 0.87058824 0.87843137 0.86666667\n",
      "  0.8745098  0.96078431 0.67843137 0.        ]\n",
      " [0.         0.         0.         0.         0.         0.\n",
      "  0.         0.         0.         0.         0.         0.\n",
      "  0.         0.75686275 0.89411765 0.85490196 0.83529412 0.77647059\n",
      "  0.70588235 0.83137255 0.82352941 0.82745098 0.83529412 0.8745098\n",
      "  0.8627451  0.95294118 0.79215686 0.        ]\n",
      " [0.         0.         0.         0.         0.         0.\n",
      "  0.         0.         0.         0.00392157 0.01176471 0.\n",
      "  0.04705882 0.85882353 0.8627451  0.83137255 0.85490196 0.75294118\n",
      "  0.6627451  0.89019608 0.81568627 0.85490196 0.87843137 0.83137255\n",
      "  0.88627451 0.77254902 0.81960784 0.20392157]\n",
      " [0.         0.         0.         0.         0.         0.\n",
      "  0.         0.         0.         0.         0.02352941 0.\n",
      "  0.38823529 0.95686275 0.87058824 0.8627451  0.85490196 0.79607843\n",
      "  0.77647059 0.86666667 0.84313725 0.83529412 0.87058824 0.8627451\n",
      "  0.96078431 0.46666667 0.65490196 0.21960784]\n",
      " [0.         0.         0.         0.         0.         0.\n",
      "  0.         0.         0.         0.01568627 0.         0.\n",
      "  0.21568627 0.9254902  0.89411765 0.90196078 0.89411765 0.94117647\n",
      "  0.90980392 0.83529412 0.85490196 0.8745098  0.91764706 0.85098039\n",
      "  0.85098039 0.81960784 0.36078431 0.        ]\n",
      " [0.         0.         0.00392157 0.01568627 0.02352941 0.02745098\n",
      "  0.00784314 0.         0.         0.         0.         0.\n",
      "  0.92941176 0.88627451 0.85098039 0.8745098  0.87058824 0.85882353\n",
      "  0.87058824 0.86666667 0.84705882 0.8745098  0.89803922 0.84313725\n",
      "  0.85490196 1.         0.30196078 0.        ]\n",
      " [0.         0.01176471 0.         0.         0.         0.\n",
      "  0.         0.         0.         0.24313725 0.56862745 0.8\n",
      "  0.89411765 0.81176471 0.83529412 0.86666667 0.85490196 0.81568627\n",
      "  0.82745098 0.85490196 0.87843137 0.8745098  0.85882353 0.84313725\n",
      "  0.87843137 0.95686275 0.62352941 0.        ]\n",
      " [0.         0.         0.         0.         0.07058824 0.17254902\n",
      "  0.32156863 0.41960784 0.74117647 0.89411765 0.8627451  0.87058824\n",
      "  0.85098039 0.88627451 0.78431373 0.80392157 0.82745098 0.90196078\n",
      "  0.87843137 0.91764706 0.69019608 0.7372549  0.98039216 0.97254902\n",
      "  0.91372549 0.93333333 0.84313725 0.        ]\n",
      " [0.         0.22352941 0.73333333 0.81568627 0.87843137 0.86666667\n",
      "  0.87843137 0.81568627 0.8        0.83921569 0.81568627 0.81960784\n",
      "  0.78431373 0.62352941 0.96078431 0.75686275 0.80784314 0.8745098\n",
      "  1.         1.         0.86666667 0.91764706 0.86666667 0.82745098\n",
      "  0.8627451  0.90980392 0.96470588 0.        ]\n",
      " [0.01176471 0.79215686 0.89411765 0.87843137 0.86666667 0.82745098\n",
      "  0.82745098 0.83921569 0.80392157 0.80392157 0.80392157 0.8627451\n",
      "  0.94117647 0.31372549 0.58823529 1.         0.89803922 0.86666667\n",
      "  0.7372549  0.60392157 0.74901961 0.82352941 0.8        0.81960784\n",
      "  0.87058824 0.89411765 0.88235294 0.        ]\n",
      " [0.38431373 0.91372549 0.77647059 0.82352941 0.87058824 0.89803922\n",
      "  0.89803922 0.91764706 0.97647059 0.8627451  0.76078431 0.84313725\n",
      "  0.85098039 0.94509804 0.25490196 0.28627451 0.41568627 0.45882353\n",
      "  0.65882353 0.85882353 0.86666667 0.84313725 0.85098039 0.8745098\n",
      "  0.8745098  0.87843137 0.89803922 0.11372549]\n",
      " [0.29411765 0.8        0.83137255 0.8        0.75686275 0.80392157\n",
      "  0.82745098 0.88235294 0.84705882 0.7254902  0.77254902 0.80784314\n",
      "  0.77647059 0.83529412 0.94117647 0.76470588 0.89019608 0.96078431\n",
      "  0.9372549  0.8745098  0.85490196 0.83137255 0.81960784 0.87058824\n",
      "  0.8627451  0.86666667 0.90196078 0.2627451 ]\n",
      " [0.18823529 0.79607843 0.71764706 0.76078431 0.83529412 0.77254902\n",
      "  0.7254902  0.74509804 0.76078431 0.75294118 0.79215686 0.83921569\n",
      "  0.85882353 0.86666667 0.8627451  0.9254902  0.88235294 0.84705882\n",
      "  0.78039216 0.80784314 0.72941176 0.70980392 0.69411765 0.6745098\n",
      "  0.70980392 0.80392157 0.80784314 0.45098039]\n",
      " [0.         0.47843137 0.85882353 0.75686275 0.70196078 0.67058824\n",
      "  0.71764706 0.76862745 0.8        0.82352941 0.83529412 0.81176471\n",
      "  0.82745098 0.82352941 0.78431373 0.76862745 0.76078431 0.74901961\n",
      "  0.76470588 0.74901961 0.77647059 0.75294118 0.69019608 0.61176471\n",
      "  0.65490196 0.69411765 0.82352941 0.36078431]\n",
      " [0.         0.         0.29019608 0.74117647 0.83137255 0.74901961\n",
      "  0.68627451 0.6745098  0.68627451 0.70980392 0.7254902  0.7372549\n",
      "  0.74117647 0.7372549  0.75686275 0.77647059 0.8        0.81960784\n",
      "  0.82352941 0.82352941 0.82745098 0.7372549  0.7372549  0.76078431\n",
      "  0.75294118 0.84705882 0.66666667 0.        ]\n",
      " [0.00784314 0.         0.         0.         0.25882353 0.78431373\n",
      "  0.87058824 0.92941176 0.9372549  0.94901961 0.96470588 0.95294118\n",
      "  0.95686275 0.86666667 0.8627451  0.75686275 0.74901961 0.70196078\n",
      "  0.71372549 0.71372549 0.70980392 0.69019608 0.65098039 0.65882353\n",
      "  0.38823529 0.22745098 0.         0.        ]\n",
      " [0.         0.         0.         0.         0.         0.\n",
      "  0.         0.15686275 0.23921569 0.17254902 0.28235294 0.16078431\n",
      "  0.1372549  0.         0.         0.         0.         0.\n",
      "  0.         0.         0.         0.         0.         0.\n",
      "  0.         0.         0.         0.        ]\n",
      " [0.         0.         0.         0.         0.         0.\n",
      "  0.         0.         0.         0.         0.         0.\n",
      "  0.         0.         0.         0.         0.         0.\n",
      "  0.         0.         0.         0.         0.         0.\n",
      "  0.         0.         0.         0.        ]\n",
      " [0.         0.         0.         0.         0.         0.\n",
      "  0.         0.         0.         0.         0.         0.\n",
      "  0.         0.         0.         0.         0.         0.\n",
      "  0.         0.         0.         0.         0.         0.\n",
      "  0.         0.         0.         0.        ]]\n"
     ]
    }
   ],
   "source": [
    "print(X_train[0])"
   ]
  },
  {
   "cell_type": "code",
   "execution_count": 126,
   "id": "363f3c73",
   "metadata": {},
   "outputs": [
    {
     "data": {
      "text/plain": [
       "<Axes: >"
      ]
     },
     "execution_count": 126,
     "metadata": {},
     "output_type": "execute_result"
    },
    {
     "data": {
      "image/png": "[encoded data removed]",
      "text/plain": [
       "<Figure size 640x480 with 2 Axes>"
      ]
     },
     "metadata": {},
     "output_type": "display_data"
    }
   ],
   "source": [
    "sns.heatmap(X_train[1])"
   ]
  },
  {
   "cell_type": "markdown",
   "id": "1889c8b2",
   "metadata": {},
   "source": [
    "Now we flatten the image, so that in can be inputed to neural network"
   ]
  },
  {
   "cell_type": "code",
   "execution_count": 127,
   "id": "ea554735",
   "metadata": {},
   "outputs": [
    {
     "data": {
      "text/plain": [
       "(60000, 28, 28)"
      ]
     },
     "execution_count": 127,
     "metadata": {},
     "output_type": "execute_result"
    }
   ],
   "source": [
    "X_train.shape"
   ]
  },
  {
   "cell_type": "code",
   "execution_count": 128,
   "id": "02b63c84",
   "metadata": {},
   "outputs": [
    {
     "data": {
      "text/plain": [
       "(10000, 28, 28)"
      ]
     },
     "execution_count": 128,
     "metadata": {},
     "output_type": "execute_result"
    }
   ],
   "source": [
    "X_test.shape"
   ]
  },
  {
   "cell_type": "code",
   "execution_count": 129,
   "id": "91c9a188",
   "metadata": {},
   "outputs": [],
   "source": [
    "X_train_flat = X_train.reshape(60000,784)\n",
    "X_test_flat = X_test.reshape(10000,784)"
   ]
  },
  {
   "cell_type": "markdown",
   "id": "3e738dd6",
   "metadata": {},
   "source": [
    "Now we need to one code the label"
   ]
  },
  {
   "cell_type": "code",
   "execution_count": 130,
   "id": "32941b64",
   "metadata": {},
   "outputs": [
    {
     "data": {
      "text/html": [
       "<div>\n",
       "<style scoped>\n",
       "    .dataframe tbody tr th:only-of-type {\n",
       "        vertical-align: middle;\n",
       "    }\n",
       "\n",
       "    .dataframe tbody tr th {\n",
       "        vertical-align: top;\n",
       "    }\n",
       "\n",
       "    .dataframe thead th {\n",
       "        text-align: right;\n",
       "    }\n",
       "</style>\n",
       "<table border=\"1\" class=\"dataframe\">\n",
       "  <thead>\n",
       "    <tr style=\"text-align: right;\">\n",
       "      <th></th>\n",
       "      <th>T-shirt/top</th>\n",
       "      <th>Trouser</th>\n",
       "      <th>Pullover</th>\n",
       "      <th>Dress</th>\n",
       "      <th>Coat</th>\n",
       "      <th>Sandal</th>\n",
       "      <th>Shirt</th>\n",
       "      <th>Sneaker</th>\n",
       "      <th>Bag</th>\n",
       "      <th>Ankle_boot</th>\n",
       "    </tr>\n",
       "  </thead>\n",
       "  <tbody>\n",
       "    <tr>\n",
       "      <th>0</th>\n",
       "      <td>0</td>\n",
       "      <td>0</td>\n",
       "      <td>0</td>\n",
       "      <td>0</td>\n",
       "      <td>0</td>\n",
       "      <td>0</td>\n",
       "      <td>0</td>\n",
       "      <td>0</td>\n",
       "      <td>0</td>\n",
       "      <td>1</td>\n",
       "    </tr>\n",
       "    <tr>\n",
       "      <th>1</th>\n",
       "      <td>1</td>\n",
       "      <td>0</td>\n",
       "      <td>0</td>\n",
       "      <td>0</td>\n",
       "      <td>0</td>\n",
       "      <td>0</td>\n",
       "      <td>0</td>\n",
       "      <td>0</td>\n",
       "      <td>0</td>\n",
       "      <td>0</td>\n",
       "    </tr>\n",
       "    <tr>\n",
       "      <th>2</th>\n",
       "      <td>1</td>\n",
       "      <td>0</td>\n",
       "      <td>0</td>\n",
       "      <td>0</td>\n",
       "      <td>0</td>\n",
       "      <td>0</td>\n",
       "      <td>0</td>\n",
       "      <td>0</td>\n",
       "      <td>0</td>\n",
       "      <td>0</td>\n",
       "    </tr>\n",
       "    <tr>\n",
       "      <th>3</th>\n",
       "      <td>0</td>\n",
       "      <td>0</td>\n",
       "      <td>0</td>\n",
       "      <td>1</td>\n",
       "      <td>0</td>\n",
       "      <td>0</td>\n",
       "      <td>0</td>\n",
       "      <td>0</td>\n",
       "      <td>0</td>\n",
       "      <td>0</td>\n",
       "    </tr>\n",
       "    <tr>\n",
       "      <th>4</th>\n",
       "      <td>1</td>\n",
       "      <td>0</td>\n",
       "      <td>0</td>\n",
       "      <td>0</td>\n",
       "      <td>0</td>\n",
       "      <td>0</td>\n",
       "      <td>0</td>\n",
       "      <td>0</td>\n",
       "      <td>0</td>\n",
       "      <td>0</td>\n",
       "    </tr>\n",
       "  </tbody>\n",
       "</table>\n",
       "</div>"
      ],
      "text/plain": [
       "   T-shirt/top  Trouser  Pullover  Dress  Coat  Sandal  Shirt  Sneaker  Bag  \\\n",
       "0            0        0         0      0     0       0      0        0    0   \n",
       "1            1        0         0      0     0       0      0        0    0   \n",
       "2            1        0         0      0     0       0      0        0    0   \n",
       "3            0        0         0      1     0       0      0        0    0   \n",
       "4            1        0         0      0     0       0      0        0    0   \n",
       "\n",
       "   Ankle_boot  \n",
       "0           1  \n",
       "1           0  \n",
       "2           0  \n",
       "3           0  \n",
       "4           0  "
      ]
     },
     "execution_count": 130,
     "metadata": {},
     "output_type": "execute_result"
    }
   ],
   "source": [
    "y_train = pd.get_dummies(y_train)\n",
    "y_train.columns = [\"T-shirt/top\",\"Trouser\",\"Pullover\", \"Dress\", \"Coat\",\"Sandal\",\"Shirt\",\"Sneaker\",\"Bag\" ,\"Ankle_boot\"]\n",
    "y_train.head()"
   ]
  },
  {
   "cell_type": "code",
   "execution_count": 131,
   "id": "58102641",
   "metadata": {
    "scrolled": true
   },
   "outputs": [
    {
     "data": {
      "text/html": [
       "<div>\n",
       "<style scoped>\n",
       "    .dataframe tbody tr th:only-of-type {\n",
       "        vertical-align: middle;\n",
       "    }\n",
       "\n",
       "    .dataframe tbody tr th {\n",
       "        vertical-align: top;\n",
       "    }\n",
       "\n",
       "    .dataframe thead th {\n",
       "        text-align: right;\n",
       "    }\n",
       "</style>\n",
       "<table border=\"1\" class=\"dataframe\">\n",
       "  <thead>\n",
       "    <tr style=\"text-align: right;\">\n",
       "      <th></th>\n",
       "      <th>T-shirt/top</th>\n",
       "      <th>Trouser</th>\n",
       "      <th>Pullover</th>\n",
       "      <th>Dress</th>\n",
       "      <th>Coat</th>\n",
       "      <th>Sandal</th>\n",
       "      <th>Shirt</th>\n",
       "      <th>Sneaker</th>\n",
       "      <th>Bag</th>\n",
       "      <th>Ankle_boot</th>\n",
       "    </tr>\n",
       "  </thead>\n",
       "  <tbody>\n",
       "    <tr>\n",
       "      <th>0</th>\n",
       "      <td>0</td>\n",
       "      <td>0</td>\n",
       "      <td>0</td>\n",
       "      <td>0</td>\n",
       "      <td>0</td>\n",
       "      <td>0</td>\n",
       "      <td>0</td>\n",
       "      <td>0</td>\n",
       "      <td>0</td>\n",
       "      <td>1</td>\n",
       "    </tr>\n",
       "    <tr>\n",
       "      <th>1</th>\n",
       "      <td>0</td>\n",
       "      <td>0</td>\n",
       "      <td>1</td>\n",
       "      <td>0</td>\n",
       "      <td>0</td>\n",
       "      <td>0</td>\n",
       "      <td>0</td>\n",
       "      <td>0</td>\n",
       "      <td>0</td>\n",
       "      <td>0</td>\n",
       "    </tr>\n",
       "    <tr>\n",
       "      <th>2</th>\n",
       "      <td>0</td>\n",
       "      <td>1</td>\n",
       "      <td>0</td>\n",
       "      <td>0</td>\n",
       "      <td>0</td>\n",
       "      <td>0</td>\n",
       "      <td>0</td>\n",
       "      <td>0</td>\n",
       "      <td>0</td>\n",
       "      <td>0</td>\n",
       "    </tr>\n",
       "    <tr>\n",
       "      <th>3</th>\n",
       "      <td>0</td>\n",
       "      <td>1</td>\n",
       "      <td>0</td>\n",
       "      <td>0</td>\n",
       "      <td>0</td>\n",
       "      <td>0</td>\n",
       "      <td>0</td>\n",
       "      <td>0</td>\n",
       "      <td>0</td>\n",
       "      <td>0</td>\n",
       "    </tr>\n",
       "    <tr>\n",
       "      <th>4</th>\n",
       "      <td>0</td>\n",
       "      <td>0</td>\n",
       "      <td>0</td>\n",
       "      <td>0</td>\n",
       "      <td>0</td>\n",
       "      <td>0</td>\n",
       "      <td>1</td>\n",
       "      <td>0</td>\n",
       "      <td>0</td>\n",
       "      <td>0</td>\n",
       "    </tr>\n",
       "  </tbody>\n",
       "</table>\n",
       "</div>"
      ],
      "text/plain": [
       "   T-shirt/top  Trouser  Pullover  Dress  Coat  Sandal  Shirt  Sneaker  Bag  \\\n",
       "0            0        0         0      0     0       0      0        0    0   \n",
       "1            0        0         1      0     0       0      0        0    0   \n",
       "2            0        1         0      0     0       0      0        0    0   \n",
       "3            0        1         0      0     0       0      0        0    0   \n",
       "4            0        0         0      0     0       0      1        0    0   \n",
       "\n",
       "   Ankle_boot  \n",
       "0           1  \n",
       "1           0  \n",
       "2           0  \n",
       "3           0  \n",
       "4           0  "
      ]
     },
     "execution_count": 131,
     "metadata": {},
     "output_type": "execute_result"
    }
   ],
   "source": [
    "y_test = pd.get_dummies(y_test)\n",
    "y_test.columns = [\"T-shirt/top\",\"Trouser\",\"Pullover\", \"Dress\", \"Coat\",\"Sandal\",\"Shirt\",\"Sneaker\",\"Bag\" ,\"Ankle_boot\"]\n",
    "y_test.head()"
   ]
  },
  {
   "cell_type": "markdown",
   "id": "4c5308a9",
   "metadata": {},
   "source": [
    "# Basic neural networks"
   ]
  },
  {
   "cell_type": "code",
   "execution_count": 132,
   "id": "ff9ce97b",
   "metadata": {},
   "outputs": [],
   "source": [
    "from tensorflow.keras.models import Sequential\n",
    "from tensorflow.keras.layers import Dense, Activation,Dropout,InputLayer, BatchNormalization,Flatten, Conv2D, MaxPooling2D\n",
    "from tensorflow.keras.optimizers import Adam\n",
    "from sklearn.metrics import classification_report,confusion_matrix"
   ]
  },
  {
   "cell_type": "markdown",
   "id": "6b1585ad",
   "metadata": {},
   "source": [
    "First model, rectified linear unit as activation function, one dropout layer"
   ]
  },
  {
   "cell_type": "code",
   "execution_count": 133,
   "id": "917aa8a8",
   "metadata": {},
   "outputs": [],
   "source": [
    "model1 = Sequential()\n",
    "model1.add(InputLayer(784))\n",
    "\n",
    "model1.add(Dense(128,activation = \"relu\"))\n",
    "model1.add(BatchNormalization())\n",
    "\n",
    "model1.add(Dense(128,activation = \"relu\"))\n",
    "model1.add(BatchNormalization())\n",
    "\n",
    "model1.add(Dense(128,activation = \"relu\"))\n",
    "model1.add(BatchNormalization())\n",
    "model1.add(Dropout(0.3))\n",
    "\n",
    "model1.add(Dense(units=10, activation='softmax'))\n",
    "model1.compile(loss= \"CategoricalCrossentropy\",optimizer = Adam(learning_rate=0.001), metrics=['accuracy'])"
   ]
  },
  {
   "cell_type": "code",
   "execution_count": 134,
   "id": "696e5000",
   "metadata": {
    "scrolled": false
   },
   "outputs": [
    {
     "name": "stdout",
     "output_type": "stream",
     "text": [
      "Epoch 1/15\n",
      "469/469 [==============================] - 5s 9ms/step - loss: 0.5320 - accuracy: 0.8159 - val_loss: 0.3813 - val_accuracy: 0.8565\n",
      "Epoch 2/15\n",
      "469/469 [==============================] - 4s 8ms/step - loss: 0.3820 - accuracy: 0.8621 - val_loss: 0.3931 - val_accuracy: 0.8573\n",
      "Epoch 3/15\n",
      "469/469 [==============================] - 4s 8ms/step - loss: 0.3435 - accuracy: 0.8753 - val_loss: 0.3903 - val_accuracy: 0.8523\n",
      "Epoch 4/15\n",
      "469/469 [==============================] - 4s 9ms/step - loss: 0.3199 - accuracy: 0.8826 - val_loss: 0.3183 - val_accuracy: 0.8812\n",
      "Epoch 5/15\n",
      "469/469 [==============================] - 4s 9ms/step - loss: 0.3038 - accuracy: 0.8874 - val_loss: 0.2792 - val_accuracy: 0.8936\n",
      "Epoch 6/15\n",
      "469/469 [==============================] - 4s 9ms/step - loss: 0.2881 - accuracy: 0.8931 - val_loss: 0.2660 - val_accuracy: 0.9007\n",
      "Epoch 7/15\n",
      "469/469 [==============================] - 4s 10ms/step - loss: 0.2769 - accuracy: 0.8982 - val_loss: 0.2835 - val_accuracy: 0.8935\n",
      "Epoch 8/15\n",
      "469/469 [==============================] - 4s 9ms/step - loss: 0.2665 - accuracy: 0.9016 - val_loss: 0.2722 - val_accuracy: 0.8976\n",
      "Epoch 9/15\n",
      "469/469 [==============================] - 4s 10ms/step - loss: 0.2563 - accuracy: 0.9048 - val_loss: 0.2456 - val_accuracy: 0.9068\n",
      "Epoch 10/15\n",
      "469/469 [==============================] - 4s 9ms/step - loss: 0.2467 - accuracy: 0.9084 - val_loss: 0.2522 - val_accuracy: 0.9024\n",
      "Epoch 11/15\n",
      "469/469 [==============================] - 5s 10ms/step - loss: 0.2388 - accuracy: 0.9118 - val_loss: 0.2490 - val_accuracy: 0.9041\n",
      "Epoch 12/15\n",
      "469/469 [==============================] - 5s 10ms/step - loss: 0.2321 - accuracy: 0.9140 - val_loss: 0.2209 - val_accuracy: 0.9175\n",
      "Epoch 13/15\n",
      "469/469 [==============================] - 4s 9ms/step - loss: 0.2259 - accuracy: 0.9152 - val_loss: 0.2353 - val_accuracy: 0.9109\n",
      "Epoch 14/15\n",
      "469/469 [==============================] - 4s 9ms/step - loss: 0.2253 - accuracy: 0.9158 - val_loss: 0.2276 - val_accuracy: 0.9133\n",
      "Epoch 15/15\n",
      "469/469 [==============================] - 4s 9ms/step - loss: 0.2194 - accuracy: 0.9192 - val_loss: 0.2168 - val_accuracy: 0.9202\n"
     ]
    },
    {
     "data": {
      "text/plain": [
       "<keras.callbacks.History at 0x1d7835d2670>"
      ]
     },
     "execution_count": 134,
     "metadata": {},
     "output_type": "execute_result"
    }
   ],
   "source": [
    "model1.fit(X_train_flat, y_train, batch_size=128, epochs=15, verbose=1,validation_data=(X_train_flat, y_train))"
   ]
  },
  {
   "cell_type": "code",
   "execution_count": 135,
   "id": "34d36621",
   "metadata": {},
   "outputs": [
    {
     "name": "stdout",
     "output_type": "stream",
     "text": [
      "Model: \"sequential_26\"\n",
      "_________________________________________________________________\n",
      "Layer (type)                 Output Shape              Param #   \n",
      "=================================================================\n",
      "dense_63 (Dense)             (None, 128)               100480    \n",
      "_________________________________________________________________\n",
      "batch_normalization_39 (Batc (None, 128)               512       \n",
      "_________________________________________________________________\n",
      "dense_64 (Dense)             (None, 128)               16512     \n",
      "_________________________________________________________________\n",
      "batch_normalization_40 (Batc (None, 128)               512       \n",
      "_________________________________________________________________\n",
      "dense_65 (Dense)             (None, 128)               16512     \n",
      "_________________________________________________________________\n",
      "batch_normalization_41 (Batc (None, 128)               512       \n",
      "_________________________________________________________________\n",
      "dropout_47 (Dropout)         (None, 128)               0         \n",
      "_________________________________________________________________\n",
      "dense_66 (Dense)             (None, 10)                1290      \n",
      "=================================================================\n",
      "Total params: 136,330\n",
      "Trainable params: 135,562\n",
      "Non-trainable params: 768\n",
      "_________________________________________________________________\n"
     ]
    }
   ],
   "source": [
    "model1.summary()"
   ]
  },
  {
   "cell_type": "markdown",
   "id": "3f578cf6",
   "metadata": {},
   "source": [
    "Making predictions, and converting to categorical values from propability"
   ]
  },
  {
   "cell_type": "code",
   "execution_count": 136,
   "id": "bdd2c079",
   "metadata": {},
   "outputs": [],
   "source": [
    "predictions = model1.predict(X_test_flat)\n",
    "predictions[predictions>=0.5] = 1\n",
    "predictions[predictions<0.5] = 0"
   ]
  },
  {
   "cell_type": "code",
   "execution_count": 137,
   "id": "9597e0e1",
   "metadata": {},
   "outputs": [
    {
     "name": "stdout",
     "output_type": "stream",
     "text": [
      "              precision    recall  f1-score   support\n",
      "\n",
      "           0       0.81      0.87      0.84       924\n",
      "           1       0.97      0.99      0.98       988\n",
      "           2       0.83      0.77      0.80      1081\n",
      "           3       0.83      0.91      0.87       920\n",
      "           4       0.79      0.81      0.80       970\n",
      "           5       0.97      0.97      0.97      1000\n",
      "           6       0.65      0.76      0.70       848\n",
      "           7       0.97      0.91      0.94      1062\n",
      "           8       0.95      0.97      0.96       983\n",
      "           9       0.93      0.97      0.95       956\n",
      "\n",
      "   micro avg       0.87      0.89      0.88      9732\n",
      "   macro avg       0.87      0.89      0.88      9732\n",
      "weighted avg       0.87      0.89      0.88      9732\n",
      " samples avg       0.87      0.87      0.87      9732\n",
      "\n"
     ]
    },
    {
     "name": "stderr",
     "output_type": "stream",
     "text": [
      "D:\\Anaconda\\envs\\tf-gpu\\lib\\site-packages\\sklearn\\metrics\\_classification.py:1344: UndefinedMetricWarning: Recall and F-score are ill-defined and being set to 0.0 in samples with no true labels. Use `zero_division` parameter to control this behavior.\n",
      "  _warn_prf(average, modifier, msg_start, len(result))\n"
     ]
    }
   ],
   "source": [
    "print(classification_report(predictions,y_test))"
   ]
  },
  {
   "cell_type": "markdown",
   "id": "51333d13",
   "metadata": {},
   "source": [
    "Secound model tanh as activation function, one dropout layer"
   ]
  },
  {
   "cell_type": "code",
   "execution_count": 138,
   "id": "fd32a1be",
   "metadata": {},
   "outputs": [],
   "source": [
    "model2 = Sequential()\n",
    "model2.add(InputLayer(784))\n",
    "\n",
    "model2.add(Dense(128,activation = \"tanh\"))\n",
    "model2.add(BatchNormalization())\n",
    "\n",
    "model2.add(Dense(128,activation = \"tanh\"))\n",
    "model2.add(BatchNormalization())\n",
    "\n",
    "model2.add(Dense(128,activation = \"tanh\"))\n",
    "model2.add(BatchNormalization())\n",
    "model2.add(Dropout(0.3))\n",
    "\n",
    "model2.add(Dense(units=10, activation='softmax'))\n",
    "model2.compile(loss= \"CategoricalCrossentropy\",optimizer = Adam(learning_rate=0.001), metrics=['accuracy'])"
   ]
  },
  {
   "cell_type": "code",
   "execution_count": 139,
   "id": "78110e4c",
   "metadata": {},
   "outputs": [
    {
     "name": "stdout",
     "output_type": "stream",
     "text": [
      "Model: \"sequential_27\"\n",
      "_________________________________________________________________\n",
      "Layer (type)                 Output Shape              Param #   \n",
      "=================================================================\n",
      "dense_67 (Dense)             (None, 128)               100480    \n",
      "_________________________________________________________________\n",
      "batch_normalization_42 (Batc (None, 128)               512       \n",
      "_________________________________________________________________\n",
      "dense_68 (Dense)             (None, 128)               16512     \n",
      "_________________________________________________________________\n",
      "batch_normalization_43 (Batc (None, 128)               512       \n",
      "_________________________________________________________________\n",
      "dense_69 (Dense)             (None, 128)               16512     \n",
      "_________________________________________________________________\n",
      "batch_normalization_44 (Batc (None, 128)               512       \n",
      "_________________________________________________________________\n",
      "dropout_48 (Dropout)         (None, 128)               0         \n",
      "_________________________________________________________________\n",
      "dense_70 (Dense)             (None, 10)                1290      \n",
      "=================================================================\n",
      "Total params: 136,330\n",
      "Trainable params: 135,562\n",
      "Non-trainable params: 768\n",
      "_________________________________________________________________\n"
     ]
    }
   ],
   "source": [
    "model2.summary()"
   ]
  },
  {
   "cell_type": "code",
   "execution_count": 140,
   "id": "eaf2cc18",
   "metadata": {},
   "outputs": [
    {
     "name": "stdout",
     "output_type": "stream",
     "text": [
      "Epoch 1/15\n",
      "469/469 [==============================] - 5s 9ms/step - loss: 0.5361 - accuracy: 0.8144 - val_loss: 0.3758 - val_accuracy: 0.8627\n",
      "Epoch 2/15\n",
      "469/469 [==============================] - 4s 9ms/step - loss: 0.3884 - accuracy: 0.8606 - val_loss: 0.3449 - val_accuracy: 0.8713\n",
      "Epoch 3/15\n",
      "469/469 [==============================] - 4s 8ms/step - loss: 0.3409 - accuracy: 0.8755 - val_loss: 0.2964 - val_accuracy: 0.8895\n",
      "Epoch 4/15\n",
      "469/469 [==============================] - 4s 9ms/step - loss: 0.3129 - accuracy: 0.8855 - val_loss: 0.3275 - val_accuracy: 0.8766\n",
      "Epoch 5/15\n",
      "469/469 [==============================] - 5s 10ms/step - loss: 0.2929 - accuracy: 0.8921 - val_loss: 0.2684 - val_accuracy: 0.8980\n",
      "Epoch 6/15\n",
      "469/469 [==============================] - 4s 9ms/step - loss: 0.2792 - accuracy: 0.8967 - val_loss: 0.2837 - val_accuracy: 0.8890\n",
      "Epoch 7/15\n",
      "469/469 [==============================] - 4s 8ms/step - loss: 0.2648 - accuracy: 0.9018 - val_loss: 0.2487 - val_accuracy: 0.9078\n",
      "Epoch 8/15\n",
      "469/469 [==============================] - 4s 9ms/step - loss: 0.2518 - accuracy: 0.9066 - val_loss: 0.2450 - val_accuracy: 0.9068\n",
      "Epoch 9/15\n",
      "469/469 [==============================] - 5s 10ms/step - loss: 0.2426 - accuracy: 0.9096 - val_loss: 0.2504 - val_accuracy: 0.9045\n",
      "Epoch 10/15\n",
      "469/469 [==============================] - 5s 10ms/step - loss: 0.2312 - accuracy: 0.9150 - val_loss: 0.2047 - val_accuracy: 0.9240\n",
      "Epoch 11/15\n",
      "469/469 [==============================] - 5s 10ms/step - loss: 0.2186 - accuracy: 0.9196 - val_loss: 0.2125 - val_accuracy: 0.9205\n",
      "Epoch 12/15\n",
      "469/469 [==============================] - 4s 9ms/step - loss: 0.2139 - accuracy: 0.9199 - val_loss: 0.2276 - val_accuracy: 0.9139\n",
      "Epoch 13/15\n",
      "469/469 [==============================] - 5s 10ms/step - loss: 0.2072 - accuracy: 0.9239 - val_loss: 0.2239 - val_accuracy: 0.9139\n",
      "Epoch 14/15\n",
      "469/469 [==============================] - 4s 9ms/step - loss: 0.1985 - accuracy: 0.9265 - val_loss: 0.2109 - val_accuracy: 0.9207\n",
      "Epoch 15/15\n",
      "469/469 [==============================] - 4s 9ms/step - loss: 0.1904 - accuracy: 0.9293 - val_loss: 0.1830 - val_accuracy: 0.9306\n"
     ]
    },
    {
     "data": {
      "text/plain": [
       "<keras.callbacks.History at 0x1d783fcee20>"
      ]
     },
     "execution_count": 140,
     "metadata": {},
     "output_type": "execute_result"
    }
   ],
   "source": [
    "model2.fit(X_train_flat, y_train, batch_size=128, epochs=15, verbose=1,validation_data=(X_train_flat, y_train))"
   ]
  },
  {
   "cell_type": "code",
   "execution_count": 141,
   "id": "5bc6d730",
   "metadata": {},
   "outputs": [],
   "source": [
    "predictions = model1.predict(X_test_flat)\n",
    "predictions[predictions>=0.5] = 1\n",
    "predictions[predictions<0.5] = 0"
   ]
  },
  {
   "cell_type": "code",
   "execution_count": 142,
   "id": "7cd6043e",
   "metadata": {},
   "outputs": [
    {
     "name": "stdout",
     "output_type": "stream",
     "text": [
      "              precision    recall  f1-score   support\n",
      "\n",
      "           0       0.81      0.87      0.84       924\n",
      "           1       0.97      0.99      0.98       988\n",
      "           2       0.83      0.77      0.80      1081\n",
      "           3       0.83      0.91      0.87       920\n",
      "           4       0.79      0.81      0.80       970\n",
      "           5       0.97      0.97      0.97      1000\n",
      "           6       0.65      0.76      0.70       848\n",
      "           7       0.97      0.91      0.94      1062\n",
      "           8       0.95      0.97      0.96       983\n",
      "           9       0.93      0.97      0.95       956\n",
      "\n",
      "   micro avg       0.87      0.89      0.88      9732\n",
      "   macro avg       0.87      0.89      0.88      9732\n",
      "weighted avg       0.87      0.89      0.88      9732\n",
      " samples avg       0.87      0.87      0.87      9732\n",
      "\n"
     ]
    },
    {
     "name": "stderr",
     "output_type": "stream",
     "text": [
      "D:\\Anaconda\\envs\\tf-gpu\\lib\\site-packages\\sklearn\\metrics\\_classification.py:1344: UndefinedMetricWarning: Recall and F-score are ill-defined and being set to 0.0 in samples with no true labels. Use `zero_division` parameter to control this behavior.\n",
      "  _warn_prf(average, modifier, msg_start, len(result))\n"
     ]
    }
   ],
   "source": [
    "print(classification_report(predictions,y_test))"
   ]
  },
  {
   "cell_type": "markdown",
   "id": "cf7c5ac7",
   "metadata": {},
   "source": [
    "# Convolutional Neural Network"
   ]
  },
  {
   "cell_type": "code",
   "execution_count": 143,
   "id": "45f550a3",
   "metadata": {},
   "outputs": [],
   "source": [
    "from tensorflow.keras.callbacks import TensorBoard"
   ]
  },
  {
   "cell_type": "code",
   "execution_count": 144,
   "id": "dae695d8",
   "metadata": {},
   "outputs": [],
   "source": [
    "arch = 'CNN_1'\n",
    "tb = TensorBoard(log_dir='logs/' + arch)"
   ]
  },
  {
   "cell_type": "markdown",
   "id": "14979be8",
   "metadata": {},
   "source": [
    "Reshaping data to fit CNN"
   ]
  },
  {
   "cell_type": "code",
   "execution_count": 145,
   "id": "429ac170",
   "metadata": {},
   "outputs": [
    {
     "data": {
      "text/plain": [
       "(10000, 28, 28)"
      ]
     },
     "execution_count": 145,
     "metadata": {},
     "output_type": "execute_result"
    }
   ],
   "source": [
    "X_test.shape"
   ]
  },
  {
   "cell_type": "code",
   "execution_count": 146,
   "id": "fc83cf5c",
   "metadata": {},
   "outputs": [
    {
     "data": {
      "text/plain": [
       "(60000, 28, 28)"
      ]
     },
     "execution_count": 146,
     "metadata": {},
     "output_type": "execute_result"
    }
   ],
   "source": [
    "X_train.shape"
   ]
  },
  {
   "cell_type": "code",
   "execution_count": 147,
   "id": "59e333ea",
   "metadata": {},
   "outputs": [],
   "source": [
    "X_train = X_train.reshape(60000, 28, 28,1)\n",
    "X_test = X_test.reshape(10000, 28, 28,1)"
   ]
  },
  {
   "cell_type": "code",
   "execution_count": 148,
   "id": "a2cbffb9",
   "metadata": {},
   "outputs": [
    {
     "data": {
      "text/plain": [
       "(28, 28, 1)"
      ]
     },
     "execution_count": 148,
     "metadata": {},
     "output_type": "execute_result"
    }
   ],
   "source": [
    "X_train[0].shape"
   ]
  },
  {
   "cell_type": "markdown",
   "id": "d3b0abac",
   "metadata": {},
   "source": [
    "First CNN with 3 convolutional layers, increasing the number of filters, with padding, becouse data does touch the edges "
   ]
  },
  {
   "cell_type": "code",
   "execution_count": 149,
   "id": "ec802a1d",
   "metadata": {},
   "outputs": [],
   "source": [
    "\n",
    "model3 = Sequential()\n",
    "\n",
    "model3.add(InputLayer((28,28,1)))\n",
    "\n",
    "model3.add(Conv2D(64, (3, 3),strides=(2,2),activation = \"relu\",padding=\"same\"))\n",
    "\n",
    "model3.add(Conv2D(128, (3, 3),strides=(2,2),activation = \"relu\",padding=\"same\"))\n",
    "\n",
    "model3.add(Conv2D(256, (3, 3),strides=(2,2),activation = \"relu\",padding=\"same\"))\n",
    "model3.add(MaxPooling2D(pool_size=(3, 3)))\n",
    "\n",
    "\n",
    "model3.add(Flatten()) \n",
    "\n",
    "model3.add(Dense(128,activation = \"relu\"))\n",
    "model3.add(BatchNormalization())\n",
    "model3.add(Dropout(0.3))\n",
    "\n",
    "model3.add(Dense(units=10, activation='softmax'))\n",
    "model3.compile(loss= \"CategoricalCrossentropy\",optimizer = Adam(learning_rate=0.001), metrics=['accuracy'])"
   ]
  },
  {
   "cell_type": "code",
   "execution_count": 150,
   "id": "dcbd3bff",
   "metadata": {},
   "outputs": [
    {
     "name": "stdout",
     "output_type": "stream",
     "text": [
      "Model: \"sequential_28\"\n",
      "_________________________________________________________________\n",
      "Layer (type)                 Output Shape              Param #   \n",
      "=================================================================\n",
      "conv2d_67 (Conv2D)           (None, 14, 14, 64)        640       \n",
      "_________________________________________________________________\n",
      "conv2d_68 (Conv2D)           (None, 7, 7, 128)         73856     \n",
      "_________________________________________________________________\n",
      "conv2d_69 (Conv2D)           (None, 4, 4, 256)         295168    \n",
      "_________________________________________________________________\n",
      "max_pooling2d_23 (MaxPooling (None, 1, 1, 256)         0         \n",
      "_________________________________________________________________\n",
      "flatten_19 (Flatten)         (None, 256)               0         \n",
      "_________________________________________________________________\n",
      "dense_71 (Dense)             (None, 128)               32896     \n",
      "_________________________________________________________________\n",
      "batch_normalization_45 (Batc (None, 128)               512       \n",
      "_________________________________________________________________\n",
      "dropout_49 (Dropout)         (None, 128)               0         \n",
      "_________________________________________________________________\n",
      "dense_72 (Dense)             (None, 10)                1290      \n",
      "=================================================================\n",
      "Total params: 404,362\n",
      "Trainable params: 404,106\n",
      "Non-trainable params: 256\n",
      "_________________________________________________________________\n"
     ]
    }
   ],
   "source": [
    "model3.summary()"
   ]
  },
  {
   "cell_type": "code",
   "execution_count": 151,
   "id": "73e1076b",
   "metadata": {},
   "outputs": [
    {
     "name": "stdout",
     "output_type": "stream",
     "text": [
      "Epoch 1/15\n",
      "469/469 [==============================] - 5s 9ms/step - loss: 0.4697 - accuracy: 0.8343 - val_loss: 0.4710 - val_accuracy: 0.8170\n",
      "Epoch 2/15\n",
      "469/469 [==============================] - 4s 8ms/step - loss: 0.3143 - accuracy: 0.8875 - val_loss: 0.3471 - val_accuracy: 0.8785\n",
      "Epoch 3/15\n",
      "469/469 [==============================] - 4s 8ms/step - loss: 0.2602 - accuracy: 0.9067 - val_loss: 0.3143 - val_accuracy: 0.8876\n",
      "Epoch 4/15\n",
      "469/469 [==============================] - 4s 9ms/step - loss: 0.2277 - accuracy: 0.9176 - val_loss: 0.2833 - val_accuracy: 0.9007\n",
      "Epoch 5/15\n",
      "469/469 [==============================] - 4s 9ms/step - loss: 0.1976 - accuracy: 0.9287 - val_loss: 0.3305 - val_accuracy: 0.8901\n",
      "Epoch 6/15\n",
      "469/469 [==============================] - 4s 9ms/step - loss: 0.1742 - accuracy: 0.9367 - val_loss: 0.3422 - val_accuracy: 0.8838\n",
      "Epoch 7/15\n",
      "469/469 [==============================] - 4s 9ms/step - loss: 0.1511 - accuracy: 0.9452 - val_loss: 0.3070 - val_accuracy: 0.9040\n",
      "Epoch 8/15\n",
      "469/469 [==============================] - 4s 9ms/step - loss: 0.1328 - accuracy: 0.9514 - val_loss: 0.3149 - val_accuracy: 0.8999\n",
      "Epoch 9/15\n",
      "469/469 [==============================] - 4s 9ms/step - loss: 0.1142 - accuracy: 0.9589 - val_loss: 0.3243 - val_accuracy: 0.9087\n",
      "Epoch 10/15\n",
      "469/469 [==============================] - 4s 9ms/step - loss: 0.0957 - accuracy: 0.9662 - val_loss: 0.3540 - val_accuracy: 0.9017\n",
      "Epoch 11/15\n",
      "469/469 [==============================] - 4s 9ms/step - loss: 0.0863 - accuracy: 0.9686 - val_loss: 0.3259 - val_accuracy: 0.9120\n",
      "Epoch 12/15\n",
      "469/469 [==============================] - 4s 9ms/step - loss: 0.0746 - accuracy: 0.9739 - val_loss: 0.4459 - val_accuracy: 0.8883\n",
      "Epoch 13/15\n",
      "469/469 [==============================] - 4s 9ms/step - loss: 0.0646 - accuracy: 0.9774 - val_loss: 0.4195 - val_accuracy: 0.8986\n",
      "Epoch 14/15\n",
      "469/469 [==============================] - 4s 9ms/step - loss: 0.0572 - accuracy: 0.9802 - val_loss: 0.3946 - val_accuracy: 0.9029\n",
      "Epoch 15/15\n",
      "469/469 [==============================] - 4s 9ms/step - loss: 0.0485 - accuracy: 0.9828 - val_loss: 0.3872 - val_accuracy: 0.9105\n"
     ]
    },
    {
     "data": {
      "text/plain": [
       "<keras.callbacks.History at 0x1d785704bb0>"
      ]
     },
     "execution_count": 151,
     "metadata": {},
     "output_type": "execute_result"
    }
   ],
   "source": [
    "model3.fit(X_train, y_train, batch_size=128, epochs=15, verbose=1,validation_data=(X_test, y_test))"
   ]
  },
  {
   "cell_type": "code",
   "execution_count": 152,
   "id": "d02a4448",
   "metadata": {},
   "outputs": [
    {
     "data": {
      "text/plain": [
       "<matplotlib.legend.Legend at 0x1d785c352b0>"
      ]
     },
     "execution_count": 152,
     "metadata": {},
     "output_type": "execute_result"
    },
    {
     "data": {
      "image/png": "[encoded data removed]",
      "text/plain": [
       "<Figure size 640x480 with 1 Axes>"
      ]
     },
     "metadata": {},
     "output_type": "display_data"
    }
   ],
   "source": [
    "plt.plot(model3.history.history['loss'])\n",
    "plt.plot(model3.history.history['val_loss'])\n",
    "plt.title('model loss')\n",
    "plt.ylabel('loss')\n",
    "plt.xlabel('epoch')\n",
    "plt.legend(['train', 'validation'], loc='upper left')"
   ]
  },
  {
   "cell_type": "markdown",
   "id": "13216776",
   "metadata": {},
   "source": [
    "Since the model is overtraning I'll add dropout to convolutional layers"
   ]
  },
  {
   "cell_type": "code",
   "execution_count": 153,
   "id": "3eb8ee35",
   "metadata": {},
   "outputs": [],
   "source": [
    "model4 = Sequential()\n",
    "\n",
    "model4.add(InputLayer((28,28,1)))\n",
    "\n",
    "model4.add(Conv2D(64, (3, 3),strides=(2,2),activation = \"relu\",padding=\"same\"))\n",
    "\n",
    "model4.add(Conv2D(128, (3, 3),strides=(2,2),activation = \"relu\",padding=\"same\"))\n",
    "model4.add(Dropout(0.4))\n",
    "\n",
    "model4.add(Conv2D(256, (3, 3),strides=(2,2),activation = \"relu\",padding=\"same\"))\n",
    "model4.add(Dropout(0.4))\n",
    "model4.add(MaxPooling2D(pool_size=(3, 3)))\n",
    "\n",
    "\n",
    "model4.add(Flatten()) \n",
    "\n",
    "model4.add(Dense(128,activation = \"relu\"))\n",
    "model4.add(BatchNormalization())\n",
    "model4.add(Dropout(0.4))\n",
    "\n",
    "model4.add(Dense(units=10, activation='softmax'))\n",
    "model4.compile(loss= \"CategoricalCrossentropy\",optimizer = Adam(learning_rate=0.001), metrics=['accuracy'])"
   ]
  },
  {
   "cell_type": "code",
   "execution_count": 154,
   "id": "35287e5b",
   "metadata": {},
   "outputs": [
    {
     "name": "stdout",
     "output_type": "stream",
     "text": [
      "Epoch 1/15\n",
      "469/469 [==============================] - 9s 19ms/step - loss: 0.6494 - accuracy: 0.7688 - val_loss: 0.6109 - val_accuracy: 0.8103\n",
      "Epoch 2/15\n",
      "469/469 [==============================] - 4s 9ms/step - loss: 0.4289 - accuracy: 0.8466 - val_loss: 0.4129 - val_accuracy: 0.8531\n",
      "Epoch 3/15\n",
      "469/469 [==============================] - 4s 9ms/step - loss: 0.3722 - accuracy: 0.8664 - val_loss: 0.3509 - val_accuracy: 0.8688\n",
      "Epoch 4/15\n",
      "469/469 [==============================] - 4s 9ms/step - loss: 0.3445 - accuracy: 0.8760 - val_loss: 0.3336 - val_accuracy: 0.8787\n",
      "Epoch 5/15\n",
      "469/469 [==============================] - 4s 9ms/step - loss: 0.3207 - accuracy: 0.8842 - val_loss: 0.2941 - val_accuracy: 0.8934\n",
      "Epoch 6/15\n",
      "469/469 [==============================] - 4s 9ms/step - loss: 0.3057 - accuracy: 0.8896 - val_loss: 0.2962 - val_accuracy: 0.8886\n",
      "Epoch 7/15\n",
      "469/469 [==============================] - 4s 9ms/step - loss: 0.2906 - accuracy: 0.8947 - val_loss: 0.2808 - val_accuracy: 0.8971\n",
      "Epoch 8/15\n",
      "469/469 [==============================] - 4s 9ms/step - loss: 0.2822 - accuracy: 0.8978 - val_loss: 0.2719 - val_accuracy: 0.9020\n",
      "Epoch 9/15\n",
      "469/469 [==============================] - 4s 9ms/step - loss: 0.2697 - accuracy: 0.9031 - val_loss: 0.2782 - val_accuracy: 0.8928\n",
      "Epoch 10/15\n",
      "469/469 [==============================] - 4s 9ms/step - loss: 0.2584 - accuracy: 0.9052 - val_loss: 0.2681 - val_accuracy: 0.9003\n",
      "Epoch 11/15\n",
      "469/469 [==============================] - 4s 9ms/step - loss: 0.2551 - accuracy: 0.9077 - val_loss: 0.2594 - val_accuracy: 0.9033\n",
      "Epoch 12/15\n",
      "469/469 [==============================] - 4s 9ms/step - loss: 0.2455 - accuracy: 0.9107 - val_loss: 0.2647 - val_accuracy: 0.9025\n",
      "Epoch 13/15\n",
      "469/469 [==============================] - 4s 9ms/step - loss: 0.2394 - accuracy: 0.9119 - val_loss: 0.2604 - val_accuracy: 0.9039\n",
      "Epoch 14/15\n",
      "469/469 [==============================] - 4s 9ms/step - loss: 0.2352 - accuracy: 0.9162 - val_loss: 0.2452 - val_accuracy: 0.9072\n",
      "Epoch 15/15\n",
      "469/469 [==============================] - 4s 9ms/step - loss: 0.2259 - accuracy: 0.9174 - val_loss: 0.2433 - val_accuracy: 0.9080\n"
     ]
    },
    {
     "data": {
      "text/plain": [
       "<keras.callbacks.History at 0x1d785da3880>"
      ]
     },
     "execution_count": 154,
     "metadata": {},
     "output_type": "execute_result"
    }
   ],
   "source": [
    "model4.fit(X_train, y_train, batch_size=128, epochs=15, verbose=1,validation_data=(X_test, y_test),callbacks=[tb])"
   ]
  },
  {
   "cell_type": "code",
   "execution_count": 155,
   "id": "435f175b",
   "metadata": {},
   "outputs": [
    {
     "data": {
      "text/plain": [
       "<matplotlib.legend.Legend at 0x1d783f01040>"
      ]
     },
     "execution_count": 155,
     "metadata": {},
     "output_type": "execute_result"
    },
    {
     "data": {
      "image/png": "[encoded data removed]",
      "text/plain": [
       "<Figure size 640x480 with 1 Axes>"
      ]
     },
     "metadata": {},
     "output_type": "display_data"
    }
   ],
   "source": [
    "plt.plot(model4.history.history['loss'])\n",
    "plt.plot(model4.history.history['val_loss'])\n",
    "plt.title('model loss')\n",
    "plt.ylabel('loss')\n",
    "plt.xlabel('epoch')\n",
    "plt.legend(['train', 'validation'], loc='upper left')"
   ]
  },
  {
   "cell_type": "markdown",
   "id": "c48ef96f",
   "metadata": {},
   "source": [
    "Second CNN with 3 convolutional and 2 deep layers "
   ]
  },
  {
   "cell_type": "code",
   "execution_count": 156,
   "id": "0907f0f2",
   "metadata": {},
   "outputs": [],
   "source": [
    "arch = 'CNN_2'\n",
    "tb = TensorBoard(log_dir='logs/' + arch)"
   ]
  },
  {
   "cell_type": "code",
   "execution_count": 157,
   "id": "36350b7a",
   "metadata": {},
   "outputs": [],
   "source": [
    "model5 = Sequential()\n",
    "\n",
    "model5.add(InputLayer((28,28,1)))\n",
    "\n",
    "model5.add(Conv2D(64, (3, 3),strides=(2,2),activation = \"relu\",padding=\"same\"))\n",
    "\n",
    "model5.add(Conv2D(128, (3, 3),strides=(2,2),activation = \"relu\",padding=\"same\"))\n",
    "model5.add(Dropout(0.4))\n",
    "\n",
    "model5.add(Conv2D(256, (3, 3),strides=(2,2),activation = \"relu\",padding=\"same\"))\n",
    "model5.add(Dropout(0.4))\n",
    "model5.add(MaxPooling2D(pool_size=(3, 3)))\n",
    "\n",
    "\n",
    "model5.add(Flatten()) \n",
    "\n",
    "model5.add(Dense(128,activation = \"relu\"))\n",
    "model5.add(BatchNormalization())\n",
    "model5.add(Dropout(0.4))\n",
    "\n",
    "\n",
    "model5.add(Dense(128,activation = \"relu\"))\n",
    "model5.add(BatchNormalization())\n",
    "model5.add(Dropout(0.4))\n",
    "\n",
    "model5.add(Dense(units=10, activation='softmax'))\n",
    "model5.compile(loss= \"CategoricalCrossentropy\",optimizer = Adam(learning_rate=0.001), metrics=['accuracy'])"
   ]
  },
  {
   "cell_type": "code",
   "execution_count": 158,
   "id": "21efbad6",
   "metadata": {},
   "outputs": [
    {
     "name": "stdout",
     "output_type": "stream",
     "text": [
      "Epoch 1/15\n",
      "469/469 [==============================] - 7s 13ms/step - loss: 0.8655 - accuracy: 0.6953 - val_loss: 0.6227 - val_accuracy: 0.7858\n",
      "Epoch 2/15\n",
      "469/469 [==============================] - 5s 11ms/step - loss: 0.5018 - accuracy: 0.8208 - val_loss: 0.3995 - val_accuracy: 0.8574\n",
      "Epoch 3/15\n",
      "469/469 [==============================] - 5s 10ms/step - loss: 0.4319 - accuracy: 0.8475 - val_loss: 0.3615 - val_accuracy: 0.8693\n",
      "Epoch 4/15\n",
      "469/469 [==============================] - 5s 11ms/step - loss: 0.3883 - accuracy: 0.8620 - val_loss: 0.3497 - val_accuracy: 0.8675\n",
      "Epoch 5/15\n",
      "469/469 [==============================] - 5s 10ms/step - loss: 0.3599 - accuracy: 0.8739 - val_loss: 0.3215 - val_accuracy: 0.8821\n",
      "Epoch 6/15\n",
      "469/469 [==============================] - 5s 10ms/step - loss: 0.3387 - accuracy: 0.8801 - val_loss: 0.3128 - val_accuracy: 0.8790\n",
      "Epoch 7/15\n",
      "469/469 [==============================] - 5s 11ms/step - loss: 0.3242 - accuracy: 0.8853 - val_loss: 0.2918 - val_accuracy: 0.8914\n",
      "Epoch 8/15\n",
      "469/469 [==============================] - 5s 11ms/step - loss: 0.3117 - accuracy: 0.8887 - val_loss: 0.2868 - val_accuracy: 0.8955\n",
      "Epoch 9/15\n",
      "469/469 [==============================] - 5s 11ms/step - loss: 0.3028 - accuracy: 0.8936 - val_loss: 0.2662 - val_accuracy: 0.9000\n",
      "Epoch 10/15\n",
      "469/469 [==============================] - 5s 11ms/step - loss: 0.2914 - accuracy: 0.8954 - val_loss: 0.2668 - val_accuracy: 0.9006\n",
      "Epoch 11/15\n",
      "469/469 [==============================] - 5s 10ms/step - loss: 0.2799 - accuracy: 0.9007 - val_loss: 0.2632 - val_accuracy: 0.9036\n",
      "Epoch 12/15\n",
      "469/469 [==============================] - 5s 10ms/step - loss: 0.2730 - accuracy: 0.9026 - val_loss: 0.2756 - val_accuracy: 0.8986\n",
      "Epoch 13/15\n",
      "469/469 [==============================] - 5s 10ms/step - loss: 0.2641 - accuracy: 0.9062 - val_loss: 0.2535 - val_accuracy: 0.9095\n",
      "Epoch 14/15\n",
      "469/469 [==============================] - 5s 10ms/step - loss: 0.2594 - accuracy: 0.9074 - val_loss: 0.3236 - val_accuracy: 0.8784\n",
      "Epoch 15/15\n",
      "469/469 [==============================] - 5s 11ms/step - loss: 0.2504 - accuracy: 0.9106 - val_loss: 0.2657 - val_accuracy: 0.9051\n"
     ]
    },
    {
     "data": {
      "text/plain": [
       "<keras.callbacks.History at 0x1d92e8f3310>"
      ]
     },
     "execution_count": 158,
     "metadata": {},
     "output_type": "execute_result"
    }
   ],
   "source": [
    "model5.fit(X_train, y_train, batch_size=128, epochs=15, verbose=1,validation_data=(X_test, y_test),callbacks=[tb])"
   ]
  },
  {
   "cell_type": "code",
   "execution_count": 159,
   "id": "8a8e2597",
   "metadata": {},
   "outputs": [
    {
     "data": {
      "text/plain": [
       "<matplotlib.legend.Legend at 0x1d7868bbf10>"
      ]
     },
     "execution_count": 159,
     "metadata": {},
     "output_type": "execute_result"
    },
    {
     "data": {
      "image/png": "[encoded data removed]",
      "text/plain": [
       "<Figure size 640x480 with 1 Axes>"
      ]
     },
     "metadata": {},
     "output_type": "display_data"
    }
   ],
   "source": [
    "plt.plot(model4.history.history['loss'])\n",
    "plt.plot(model4.history.history['val_loss'])\n",
    "plt.title('model loss')\n",
    "plt.ylabel('loss')\n",
    "plt.xlabel('epoch')\n",
    "plt.legend(['train', 'validation'], loc='upper left')"
   ]
  },
  {
   "cell_type": "markdown",
   "id": "d519c722",
   "metadata": {},
   "source": [
    "Third CNN with 4 convolutional and 1 deep layer "
   ]
  },
  {
   "cell_type": "code",
   "execution_count": 160,
   "id": "af52e095",
   "metadata": {},
   "outputs": [],
   "source": [
    "arch = 'CNN_3'\n",
    "tb = TensorBoard(log_dir='logs/' + arch)"
   ]
  },
  {
   "cell_type": "code",
   "execution_count": 161,
   "id": "8880a2b2",
   "metadata": {},
   "outputs": [],
   "source": [
    "model6 = Sequential()\n",
    "\n",
    "model6.add(InputLayer((28,28,1)))\n",
    "\n",
    "model6.add(Conv2D(32, (3, 3),strides=(2,2),activation = \"relu\",padding=\"same\"))\n",
    "\n",
    "model6.add(Conv2D(64, (3, 3),strides=(2,2),activation = \"relu\",padding=\"same\"))\n",
    "\n",
    "model6.add(Conv2D(128, (3, 3),strides=(2,2),activation = \"relu\",padding=\"same\"))\n",
    "model6.add(Dropout(0.4))\n",
    "\n",
    "model6.add(Conv2D(256, (3, 3),strides=(2,2),activation = \"relu\",padding=\"same\"))\n",
    "model6.add(Dropout(0.4))\n",
    "model6.add(MaxPooling2D(pool_size=(2, 2)))\n",
    "\n",
    "\n",
    "model6.add(Flatten()) \n",
    "\n",
    "model6.add(Dense(128,activation = \"relu\"))\n",
    "model6.add(BatchNormalization())\n",
    "model6.add(Dropout(0.4))\n",
    "\n",
    "model6.add(Dense(units=10, activation='softmax'))\n",
    "model6.compile(loss= \"CategoricalCrossentropy\",optimizer = Adam(learning_rate=0.001), metrics=['accuracy'])"
   ]
  },
  {
   "cell_type": "code",
   "execution_count": 162,
   "id": "b9c4d402",
   "metadata": {},
   "outputs": [
    {
     "name": "stdout",
     "output_type": "stream",
     "text": [
      "Epoch 1/15\n",
      "469/469 [==============================] - 7s 12ms/step - loss: 0.6119 - accuracy: 0.7795 - val_loss: 0.5267 - val_accuracy: 0.8488\n",
      "Epoch 2/15\n",
      "469/469 [==============================] - 4s 8ms/step - loss: 0.3967 - accuracy: 0.8575 - val_loss: 0.3478 - val_accuracy: 0.8703\n",
      "Epoch 3/15\n",
      "469/469 [==============================] - 4s 8ms/step - loss: 0.3362 - accuracy: 0.8779 - val_loss: 0.3200 - val_accuracy: 0.8798\n",
      "Epoch 4/15\n",
      "469/469 [==============================] - 4s 8ms/step - loss: 0.3051 - accuracy: 0.8892 - val_loss: 0.2872 - val_accuracy: 0.8936\n",
      "Epoch 5/15\n",
      "469/469 [==============================] - 4s 8ms/step - loss: 0.2818 - accuracy: 0.8977 - val_loss: 0.2746 - val_accuracy: 0.8989\n",
      "Epoch 6/15\n",
      "469/469 [==============================] - 4s 8ms/step - loss: 0.2622 - accuracy: 0.9045 - val_loss: 0.2681 - val_accuracy: 0.9002\n",
      "Epoch 7/15\n",
      "469/469 [==============================] - 4s 9ms/step - loss: 0.2491 - accuracy: 0.9094 - val_loss: 0.2533 - val_accuracy: 0.9072\n",
      "Epoch 8/15\n",
      "469/469 [==============================] - 4s 9ms/step - loss: 0.2353 - accuracy: 0.9132 - val_loss: 0.2528 - val_accuracy: 0.9030\n",
      "Epoch 9/15\n",
      "469/469 [==============================] - 4s 9ms/step - loss: 0.2245 - accuracy: 0.9178 - val_loss: 0.2694 - val_accuracy: 0.9010\n",
      "Epoch 10/15\n",
      "469/469 [==============================] - 4s 8ms/step - loss: 0.2143 - accuracy: 0.9216 - val_loss: 0.2403 - val_accuracy: 0.9128\n",
      "Epoch 11/15\n",
      "469/469 [==============================] - 4s 8ms/step - loss: 0.2059 - accuracy: 0.9256 - val_loss: 0.2344 - val_accuracy: 0.9141\n",
      "Epoch 12/15\n",
      "469/469 [==============================] - 4s 8ms/step - loss: 0.1962 - accuracy: 0.9280 - val_loss: 0.2409 - val_accuracy: 0.9125\n",
      "Epoch 13/15\n",
      "469/469 [==============================] - 4s 8ms/step - loss: 0.1883 - accuracy: 0.9322 - val_loss: 0.2379 - val_accuracy: 0.9133\n",
      "Epoch 14/15\n",
      "469/469 [==============================] - 4s 8ms/step - loss: 0.1826 - accuracy: 0.9334 - val_loss: 0.2461 - val_accuracy: 0.9095\n",
      "Epoch 15/15\n",
      "469/469 [==============================] - 4s 8ms/step - loss: 0.1754 - accuracy: 0.9355 - val_loss: 0.2295 - val_accuracy: 0.9172\n"
     ]
    },
    {
     "data": {
      "text/plain": [
       "<keras.callbacks.History at 0x1d78cd277f0>"
      ]
     },
     "execution_count": 162,
     "metadata": {},
     "output_type": "execute_result"
    }
   ],
   "source": [
    "model6.fit(X_train, y_train, batch_size=128, epochs=15, verbose=1,validation_data=(X_test, y_test),callbacks=[tb])"
   ]
  },
  {
   "cell_type": "code",
   "execution_count": 163,
   "id": "7befeeed",
   "metadata": {},
   "outputs": [
    {
     "data": {
      "text/plain": [
       "<matplotlib.legend.Legend at 0x1d786626e80>"
      ]
     },
     "execution_count": 163,
     "metadata": {},
     "output_type": "execute_result"
    },
    {
     "data": {
      "image/png": "[encoded data removed]",
      "text/plain": [
       "<Figure size 640x480 with 1 Axes>"
      ]
     },
     "metadata": {},
     "output_type": "display_data"
    }
   ],
   "source": [
    "plt.plot(model4.history.history['loss'])\n",
    "plt.plot(model4.history.history['val_loss'])\n",
    "plt.title('model loss')\n",
    "plt.ylabel('loss')\n",
    "plt.xlabel('epoch')\n",
    "plt.legend(['train', 'validation'], loc='upper left')"
   ]
  },
  {
   "cell_type": "code",
   "execution_count": 164,
   "id": "aa87ed77",
   "metadata": {},
   "outputs": [
    {
     "data": {
      "text/html": [
       "\n",
       "      <iframe id=\"tensorboard-frame-158e29b14c8b708\" width=\"100%\" height=\"800\" frameborder=\"0\">\n",
       "      </iframe>\n",
       "      <script>\n",
       "        (function() {\n",
       "          const frame = document.getElementById(\"tensorboard-frame-158e29b14c8b708\");\n",
       "          const url = new URL(\"/\", window.location);\n",
       "          const port = 6006;\n",
       "          if (port) {\n",
       "            url.port = port;\n",
       "          }\n",
       "          frame.src = url;\n",
       "        })();\n",
       "      </script>\n",
       "    "
      ],
      "text/plain": [
       "<IPython.core.display.HTML object>"
      ]
     },
     "metadata": {},
     "output_type": "display_data"
    }
   ],
   "source": [
    "%load_ext tensorboard\n",
    "%tensorboard --logdir logs"
   ]
  },
  {
   "cell_type": "code",
   "execution_count": null,
   "id": "5c9edc33",
   "metadata": {},
   "outputs": [],
   "source": []
  }
 ],
 "metadata": {
  "kernelspec": {
   "display_name": "Python 3 (ipykernel)",
   "language": "python",
   "name": "python3"
  },
  "language_info": {
   "codemirror_mode": {
    "name": "ipython",
    "version": 3
   },
   "file_extension": ".py",
   "mimetype": "text/x-python",
   "name": "python",
   "nbconvert_exporter": "python",
   "pygments_lexer": "ipython3",
   "version": "3.9.16"
  }
 },
 "nbformat": 4,
 "nbformat_minor": 5
}
