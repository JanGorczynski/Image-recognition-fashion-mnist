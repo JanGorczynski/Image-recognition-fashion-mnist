{
 "cells": [
  {
   "cell_type": "markdown",
   "id": "9fe57e12",
   "metadata": {},
   "source": [
    "# Importing libraries and dataset"
   ]
  },
  {
   "cell_type": "code",
   "execution_count": 25,
   "id": "2ef0aa97",
   "metadata": {},
   "outputs": [],
   "source": [
    "import numpy as np\n",
    "import tensorflow as tf\n",
    "import pandas as pd\n",
    "import matplotlib.pyplot as plt\n",
    "import seaborn as sns\n",
    "%matplotlib inline"
   ]
  },
  {
   "cell_type": "code",
   "execution_count": 26,
   "id": "39f07bb2",
   "metadata": {},
   "outputs": [],
   "source": [
    "(X_train, y_train), (X_test, y_test) = tf.keras.datasets.fashion_mnist.load_data()"
   ]
  },
  {
   "cell_type": "markdown",
   "id": "69443797",
   "metadata": {},
   "source": [
    "# Basic data exploration\n",
    "The y_train and y_test sginify what type of clothing is on the images in X_train and X_test, numbers in those columns represent:\n",
    "0 T-shirt/top\n",
    "1 Trouser\n",
    "2 Pullover\n",
    "3 Dress\n",
    "4 Coat\n",
    "5 Sandal\n",
    "6 Shirt\n",
    "7 Sneaker\n",
    "8 Bag\n",
    "9 Ankle boot"
   ]
  },
  {
   "cell_type": "code",
   "execution_count": 27,
   "id": "03026e66",
   "metadata": {},
   "outputs": [
    {
     "name": "stdout",
     "output_type": "stream",
     "text": [
      "(60000, 28, 28)\n"
     ]
    }
   ],
   "source": [
    "print(X_train.shape)"
   ]
  },
  {
   "cell_type": "code",
   "execution_count": 28,
   "id": "7f88631c",
   "metadata": {},
   "outputs": [
    {
     "name": "stdout",
     "output_type": "stream",
     "text": [
      "(60000,)\n"
     ]
    }
   ],
   "source": [
    "print(y_train.shape)"
   ]
  },
  {
   "cell_type": "code",
   "execution_count": 29,
   "id": "2a68b2f3",
   "metadata": {},
   "outputs": [
    {
     "name": "stdout",
     "output_type": "stream",
     "text": [
      "[[  0   0   0   0   0   0   0   0   0   0   0   0   0   0   0   0   0   0\n",
      "    0   0   0   0   0   0   0   0   0   0]\n",
      " [  0   0   0   0   0   0   0   0   0   0   0   0   0   0   0   0   0   0\n",
      "    0   0   0   0   0   0   0   0   0   0]\n",
      " [  0   0   0   0   0   0   0   0   0   0   0   0   0   0   0   0   0   0\n",
      "    0   0   0   0   0   0   0   0   0   0]\n",
      " [  0   0   0   0   0   0   0   0   0   0   0   0   1   0   0  13  73   0\n",
      "    0   1   4   0   0   0   0   1   1   0]\n",
      " [  0   0   0   0   0   0   0   0   0   0   0   0   3   0  36 136 127  62\n",
      "   54   0   0   0   1   3   4   0   0   3]\n",
      " [  0   0   0   0   0   0   0   0   0   0   0   0   6   0 102 204 176 134\n",
      "  144 123  23   0   0   0   0  12  10   0]\n",
      " [  0   0   0   0   0   0   0   0   0   0   0   0   0   0 155 236 207 178\n",
      "  107 156 161 109  64  23  77 130  72  15]\n",
      " [  0   0   0   0   0   0   0   0   0   0   0   1   0  69 207 223 218 216\n",
      "  216 163 127 121 122 146 141  88 172  66]\n",
      " [  0   0   0   0   0   0   0   0   0   1   1   1   0 200 232 232 233 229\n",
      "  223 223 215 213 164 127 123 196 229   0]\n",
      " [  0   0   0   0   0   0   0   0   0   0   0   0   0 183 225 216 223 228\n",
      "  235 227 224 222 224 221 223 245 173   0]\n",
      " [  0   0   0   0   0   0   0   0   0   0   0   0   0 193 228 218 213 198\n",
      "  180 212 210 211 213 223 220 243 202   0]\n",
      " [  0   0   0   0   0   0   0   0   0   1   3   0  12 219 220 212 218 192\n",
      "  169 227 208 218 224 212 226 197 209  52]\n",
      " [  0   0   0   0   0   0   0   0   0   0   6   0  99 244 222 220 218 203\n",
      "  198 221 215 213 222 220 245 119 167  56]\n",
      " [  0   0   0   0   0   0   0   0   0   4   0   0  55 236 228 230 228 240\n",
      "  232 213 218 223 234 217 217 209  92   0]\n",
      " [  0   0   1   4   6   7   2   0   0   0   0   0 237 226 217 223 222 219\n",
      "  222 221 216 223 229 215 218 255  77   0]\n",
      " [  0   3   0   0   0   0   0   0   0  62 145 204 228 207 213 221 218 208\n",
      "  211 218 224 223 219 215 224 244 159   0]\n",
      " [  0   0   0   0  18  44  82 107 189 228 220 222 217 226 200 205 211 230\n",
      "  224 234 176 188 250 248 233 238 215   0]\n",
      " [  0  57 187 208 224 221 224 208 204 214 208 209 200 159 245 193 206 223\n",
      "  255 255 221 234 221 211 220 232 246   0]\n",
      " [  3 202 228 224 221 211 211 214 205 205 205 220 240  80 150 255 229 221\n",
      "  188 154 191 210 204 209 222 228 225   0]\n",
      " [ 98 233 198 210 222 229 229 234 249 220 194 215 217 241  65  73 106 117\n",
      "  168 219 221 215 217 223 223 224 229  29]\n",
      " [ 75 204 212 204 193 205 211 225 216 185 197 206 198 213 240 195 227 245\n",
      "  239 223 218 212 209 222 220 221 230  67]\n",
      " [ 48 203 183 194 213 197 185 190 194 192 202 214 219 221 220 236 225 216\n",
      "  199 206 186 181 177 172 181 205 206 115]\n",
      " [  0 122 219 193 179 171 183 196 204 210 213 207 211 210 200 196 194 191\n",
      "  195 191 198 192 176 156 167 177 210  92]\n",
      " [  0   0  74 189 212 191 175 172 175 181 185 188 189 188 193 198 204 209\n",
      "  210 210 211 188 188 194 192 216 170   0]\n",
      " [  2   0   0   0  66 200 222 237 239 242 246 243 244 221 220 193 191 179\n",
      "  182 182 181 176 166 168  99  58   0   0]\n",
      " [  0   0   0   0   0   0   0  40  61  44  72  41  35   0   0   0   0   0\n",
      "    0   0   0   0   0   0   0   0   0   0]\n",
      " [  0   0   0   0   0   0   0   0   0   0   0   0   0   0   0   0   0   0\n",
      "    0   0   0   0   0   0   0   0   0   0]\n",
      " [  0   0   0   0   0   0   0   0   0   0   0   0   0   0   0   0   0   0\n",
      "    0   0   0   0   0   0   0   0   0   0]]\n"
     ]
    }
   ],
   "source": [
    "print(X_train[0])"
   ]
  },
  {
   "cell_type": "code",
   "execution_count": 30,
   "id": "749ae841",
   "metadata": {},
   "outputs": [
    {
     "name": "stdout",
     "output_type": "stream",
     "text": [
      "9\n"
     ]
    }
   ],
   "source": [
    "print(y_train[0])"
   ]
  },
  {
   "cell_type": "code",
   "execution_count": 31,
   "id": "64a83278",
   "metadata": {},
   "outputs": [
    {
     "data": {
      "text/plain": [
       "<AxesSubplot:>"
      ]
     },
     "execution_count": 31,
     "metadata": {},
     "output_type": "execute_result"
    },
    {
     "data": {
      "image/png": "[encoded data removed]",
      "text/plain": [
       "<Figure size 432x288 with 2 Axes>"
      ]
     },
     "metadata": {
      "needs_background": "light"
     },
     "output_type": "display_data"
    }
   ],
   "source": [
    "sns.heatmap(X_train[0])"
   ]
  },
  {
   "cell_type": "markdown",
   "id": "96e7cbde",
   "metadata": {},
   "source": [
    "# Data preparation"
   ]
  },
  {
   "cell_type": "markdown",
   "id": "153bf164",
   "metadata": {},
   "source": [
    "Normalization of data"
   ]
  },
  {
   "cell_type": "code",
   "execution_count": 32,
   "id": "d8481d48",
   "metadata": {},
   "outputs": [],
   "source": [
    "X_test = X_test/255\n",
    "X_train = X_train/255"
   ]
  },
  {
   "cell_type": "code",
   "execution_count": 33,
   "id": "bb27ed1e",
   "metadata": {},
   "outputs": [
    {
     "name": "stdout",
     "output_type": "stream",
     "text": [
      "[[0.         0.         0.         0.         0.         0.\n",
      "  0.         0.         0.         0.         0.         0.\n",
      "  0.         0.         0.         0.         0.         0.\n",
      "  0.         0.         0.         0.         0.         0.\n",
      "  0.         0.         0.         0.        ]\n",
      " [0.         0.         0.         0.         0.         0.\n",
      "  0.         0.         0.         0.         0.         0.\n",
      "  0.         0.         0.         0.         0.         0.\n",
      "  0.         0.         0.         0.         0.         0.\n",
      "  0.         0.         0.         0.        ]\n",
      " [0.         0.         0.         0.         0.         0.\n",
      "  0.         0.         0.         0.         0.         0.\n",
      "  0.         0.         0.         0.         0.         0.\n",
      "  0.         0.         0.         0.         0.         0.\n",
      "  0.         0.         0.         0.        ]\n",
      " [0.         0.         0.         0.         0.         0.\n",
      "  0.         0.         0.         0.         0.         0.\n",
      "  0.00392157 0.         0.         0.05098039 0.28627451 0.\n",
      "  0.         0.00392157 0.01568627 0.         0.         0.\n",
      "  0.         0.00392157 0.00392157 0.        ]\n",
      " [0.         0.         0.         0.         0.         0.\n",
      "  0.         0.         0.         0.         0.         0.\n",
      "  0.01176471 0.         0.14117647 0.53333333 0.49803922 0.24313725\n",
      "  0.21176471 0.         0.         0.         0.00392157 0.01176471\n",
      "  0.01568627 0.         0.         0.01176471]\n",
      " [0.         0.         0.         0.         0.         0.\n",
      "  0.         0.         0.         0.         0.         0.\n",
      "  0.02352941 0.         0.4        0.8        0.69019608 0.5254902\n",
      "  0.56470588 0.48235294 0.09019608 0.         0.         0.\n",
      "  0.         0.04705882 0.03921569 0.        ]\n",
      " [0.         0.         0.         0.         0.         0.\n",
      "  0.         0.         0.         0.         0.         0.\n",
      "  0.         0.         0.60784314 0.9254902  0.81176471 0.69803922\n",
      "  0.41960784 0.61176471 0.63137255 0.42745098 0.25098039 0.09019608\n",
      "  0.30196078 0.50980392 0.28235294 0.05882353]\n",
      " [0.         0.         0.         0.         0.         0.\n",
      "  0.         0.         0.         0.         0.         0.00392157\n",
      "  0.         0.27058824 0.81176471 0.8745098  0.85490196 0.84705882\n",
      "  0.84705882 0.63921569 0.49803922 0.4745098  0.47843137 0.57254902\n",
      "  0.55294118 0.34509804 0.6745098  0.25882353]\n",
      " [0.         0.         0.         0.         0.         0.\n",
      "  0.         0.         0.         0.00392157 0.00392157 0.00392157\n",
      "  0.         0.78431373 0.90980392 0.90980392 0.91372549 0.89803922\n",
      "  0.8745098  0.8745098  0.84313725 0.83529412 0.64313725 0.49803922\n",
      "  0.48235294 0.76862745 0.89803922 0.        ]\n",
      " [0.         0.         0.         0.         0.         0.\n",
      "  0.         0.         0.         0.         0.         0.\n",
      "  0.         0.71764706 0.88235294 0.84705882 0.8745098  0.89411765\n",
      "  0.92156863 0.89019608 0.87843137 0.87058824 0.87843137 0.86666667\n",
      "  0.8745098  0.96078431 0.67843137 0.        ]\n",
      " [0.         0.         0.         0.         0.         0.\n",
      "  0.         0.         0.         0.         0.         0.\n",
      "  0.         0.75686275 0.89411765 0.85490196 0.83529412 0.77647059\n",
      "  0.70588235 0.83137255 0.82352941 0.82745098 0.83529412 0.8745098\n",
      "  0.8627451  0.95294118 0.79215686 0.        ]\n",
      " [0.         0.         0.         0.         0.         0.\n",
      "  0.         0.         0.         0.00392157 0.01176471 0.\n",
      "  0.04705882 0.85882353 0.8627451  0.83137255 0.85490196 0.75294118\n",
      "  0.6627451  0.89019608 0.81568627 0.85490196 0.87843137 0.83137255\n",
      "  0.88627451 0.77254902 0.81960784 0.20392157]\n",
      " [0.         0.         0.         0.         0.         0.\n",
      "  0.         0.         0.         0.         0.02352941 0.\n",
      "  0.38823529 0.95686275 0.87058824 0.8627451  0.85490196 0.79607843\n",
      "  0.77647059 0.86666667 0.84313725 0.83529412 0.87058824 0.8627451\n",
      "  0.96078431 0.46666667 0.65490196 0.21960784]\n",
      " [0.         0.         0.         0.         0.         0.\n",
      "  0.         0.         0.         0.01568627 0.         0.\n",
      "  0.21568627 0.9254902  0.89411765 0.90196078 0.89411765 0.94117647\n",
      "  0.90980392 0.83529412 0.85490196 0.8745098  0.91764706 0.85098039\n",
      "  0.85098039 0.81960784 0.36078431 0.        ]\n",
      " [0.         0.         0.00392157 0.01568627 0.02352941 0.02745098\n",
      "  0.00784314 0.         0.         0.         0.         0.\n",
      "  0.92941176 0.88627451 0.85098039 0.8745098  0.87058824 0.85882353\n",
      "  0.87058824 0.86666667 0.84705882 0.8745098  0.89803922 0.84313725\n",
      "  0.85490196 1.         0.30196078 0.        ]\n",
      " [0.         0.01176471 0.         0.         0.         0.\n",
      "  0.         0.         0.         0.24313725 0.56862745 0.8\n",
      "  0.89411765 0.81176471 0.83529412 0.86666667 0.85490196 0.81568627\n",
      "  0.82745098 0.85490196 0.87843137 0.8745098  0.85882353 0.84313725\n",
      "  0.87843137 0.95686275 0.62352941 0.        ]\n",
      " [0.         0.         0.         0.         0.07058824 0.17254902\n",
      "  0.32156863 0.41960784 0.74117647 0.89411765 0.8627451  0.87058824\n",
      "  0.85098039 0.88627451 0.78431373 0.80392157 0.82745098 0.90196078\n",
      "  0.87843137 0.91764706 0.69019608 0.7372549  0.98039216 0.97254902\n",
      "  0.91372549 0.93333333 0.84313725 0.        ]\n",
      " [0.         0.22352941 0.73333333 0.81568627 0.87843137 0.86666667\n",
      "  0.87843137 0.81568627 0.8        0.83921569 0.81568627 0.81960784\n",
      "  0.78431373 0.62352941 0.96078431 0.75686275 0.80784314 0.8745098\n",
      "  1.         1.         0.86666667 0.91764706 0.86666667 0.82745098\n",
      "  0.8627451  0.90980392 0.96470588 0.        ]\n",
      " [0.01176471 0.79215686 0.89411765 0.87843137 0.86666667 0.82745098\n",
      "  0.82745098 0.83921569 0.80392157 0.80392157 0.80392157 0.8627451\n",
      "  0.94117647 0.31372549 0.58823529 1.         0.89803922 0.86666667\n",
      "  0.7372549  0.60392157 0.74901961 0.82352941 0.8        0.81960784\n",
      "  0.87058824 0.89411765 0.88235294 0.        ]\n",
      " [0.38431373 0.91372549 0.77647059 0.82352941 0.87058824 0.89803922\n",
      "  0.89803922 0.91764706 0.97647059 0.8627451  0.76078431 0.84313725\n",
      "  0.85098039 0.94509804 0.25490196 0.28627451 0.41568627 0.45882353\n",
      "  0.65882353 0.85882353 0.86666667 0.84313725 0.85098039 0.8745098\n",
      "  0.8745098  0.87843137 0.89803922 0.11372549]\n",
      " [0.29411765 0.8        0.83137255 0.8        0.75686275 0.80392157\n",
      "  0.82745098 0.88235294 0.84705882 0.7254902  0.77254902 0.80784314\n",
      "  0.77647059 0.83529412 0.94117647 0.76470588 0.89019608 0.96078431\n",
      "  0.9372549  0.8745098  0.85490196 0.83137255 0.81960784 0.87058824\n",
      "  0.8627451  0.86666667 0.90196078 0.2627451 ]\n",
      " [0.18823529 0.79607843 0.71764706 0.76078431 0.83529412 0.77254902\n",
      "  0.7254902  0.74509804 0.76078431 0.75294118 0.79215686 0.83921569\n",
      "  0.85882353 0.86666667 0.8627451  0.9254902  0.88235294 0.84705882\n",
      "  0.78039216 0.80784314 0.72941176 0.70980392 0.69411765 0.6745098\n",
      "  0.70980392 0.80392157 0.80784314 0.45098039]\n",
      " [0.         0.47843137 0.85882353 0.75686275 0.70196078 0.67058824\n",
      "  0.71764706 0.76862745 0.8        0.82352941 0.83529412 0.81176471\n",
      "  0.82745098 0.82352941 0.78431373 0.76862745 0.76078431 0.74901961\n",
      "  0.76470588 0.74901961 0.77647059 0.75294118 0.69019608 0.61176471\n",
      "  0.65490196 0.69411765 0.82352941 0.36078431]\n",
      " [0.         0.         0.29019608 0.74117647 0.83137255 0.74901961\n",
      "  0.68627451 0.6745098  0.68627451 0.70980392 0.7254902  0.7372549\n",
      "  0.74117647 0.7372549  0.75686275 0.77647059 0.8        0.81960784\n",
      "  0.82352941 0.82352941 0.82745098 0.7372549  0.7372549  0.76078431\n",
      "  0.75294118 0.84705882 0.66666667 0.        ]\n",
      " [0.00784314 0.         0.         0.         0.25882353 0.78431373\n",
      "  0.87058824 0.92941176 0.9372549  0.94901961 0.96470588 0.95294118\n",
      "  0.95686275 0.86666667 0.8627451  0.75686275 0.74901961 0.70196078\n",
      "  0.71372549 0.71372549 0.70980392 0.69019608 0.65098039 0.65882353\n",
      "  0.38823529 0.22745098 0.         0.        ]\n",
      " [0.         0.         0.         0.         0.         0.\n",
      "  0.         0.15686275 0.23921569 0.17254902 0.28235294 0.16078431\n",
      "  0.1372549  0.         0.         0.         0.         0.\n",
      "  0.         0.         0.         0.         0.         0.\n",
      "  0.         0.         0.         0.        ]\n",
      " [0.         0.         0.         0.         0.         0.\n",
      "  0.         0.         0.         0.         0.         0.\n",
      "  0.         0.         0.         0.         0.         0.\n",
      "  0.         0.         0.         0.         0.         0.\n",
      "  0.         0.         0.         0.        ]\n",
      " [0.         0.         0.         0.         0.         0.\n",
      "  0.         0.         0.         0.         0.         0.\n",
      "  0.         0.         0.         0.         0.         0.\n",
      "  0.         0.         0.         0.         0.         0.\n",
      "  0.         0.         0.         0.        ]]\n"
     ]
    }
   ],
   "source": [
    "print(X_train[0])"
   ]
  },
  {
   "cell_type": "code",
   "execution_count": 34,
   "id": "363f3c73",
   "metadata": {},
   "outputs": [
    {
     "data": {
      "text/plain": [
       "<AxesSubplot:>"
      ]
     },
     "execution_count": 34,
     "metadata": {},
     "output_type": "execute_result"
    },
    {
     "data": {
      "image/png": "[encoded data removed]",
      "text/plain": [
       "<Figure size 432x288 with 2 Axes>"
      ]
     },
     "metadata": {
      "needs_background": "light"
     },
     "output_type": "display_data"
    }
   ],
   "source": [
    "sns.heatmap(X_train[0])"
   ]
  },
  {
   "cell_type": "markdown",
   "id": "1889c8b2",
   "metadata": {},
   "source": [
    "Now we flatten the image, so that in can be inputed to neural network"
   ]
  },
  {
   "cell_type": "code",
   "execution_count": 35,
   "id": "ea554735",
   "metadata": {},
   "outputs": [
    {
     "data": {
      "text/plain": [
       "(60000, 28, 28)"
      ]
     },
     "execution_count": 35,
     "metadata": {},
     "output_type": "execute_result"
    }
   ],
   "source": [
    "X_train.shape"
   ]
  },
  {
   "cell_type": "code",
   "execution_count": 36,
   "id": "02b63c84",
   "metadata": {},
   "outputs": [
    {
     "data": {
      "text/plain": [
       "(10000, 28, 28)"
      ]
     },
     "execution_count": 36,
     "metadata": {},
     "output_type": "execute_result"
    }
   ],
   "source": [
    "X_test.shape"
   ]
  },
  {
   "cell_type": "code",
   "execution_count": 37,
   "id": "91c9a188",
   "metadata": {},
   "outputs": [],
   "source": [
    "X_train_flat = X_train.reshape(60000,784)\n",
    "X_test_flat = X_test.reshape(10000,784)"
   ]
  },
  {
   "cell_type": "markdown",
   "id": "3e738dd6",
   "metadata": {},
   "source": [
    "Now we need to one code the label"
   ]
  },
  {
   "cell_type": "code",
   "execution_count": 38,
   "id": "32941b64",
   "metadata": {},
   "outputs": [
    {
     "data": {
      "text/html": [
       "<div>\n",
       "<style scoped>\n",
       "    .dataframe tbody tr th:only-of-type {\n",
       "        vertical-align: middle;\n",
       "    }\n",
       "\n",
       "    .dataframe tbody tr th {\n",
       "        vertical-align: top;\n",
       "    }\n",
       "\n",
       "    .dataframe thead th {\n",
       "        text-align: right;\n",
       "    }\n",
       "</style>\n",
       "<table border=\"1\" class=\"dataframe\">\n",
       "  <thead>\n",
       "    <tr style=\"text-align: right;\">\n",
       "      <th></th>\n",
       "      <th>T-shirt/top</th>\n",
       "      <th>Trouser</th>\n",
       "      <th>Pullover</th>\n",
       "      <th>Dress</th>\n",
       "      <th>Coat</th>\n",
       "      <th>Sandal</th>\n",
       "      <th>Shirt</th>\n",
       "      <th>Sneaker</th>\n",
       "      <th>Bag</th>\n",
       "      <th>Ankle_boot</th>\n",
       "    </tr>\n",
       "  </thead>\n",
       "  <tbody>\n",
       "    <tr>\n",
       "      <th>0</th>\n",
       "      <td>0</td>\n",
       "      <td>0</td>\n",
       "      <td>0</td>\n",
       "      <td>0</td>\n",
       "      <td>0</td>\n",
       "      <td>0</td>\n",
       "      <td>0</td>\n",
       "      <td>0</td>\n",
       "      <td>0</td>\n",
       "      <td>1</td>\n",
       "    </tr>\n",
       "    <tr>\n",
       "      <th>1</th>\n",
       "      <td>1</td>\n",
       "      <td>0</td>\n",
       "      <td>0</td>\n",
       "      <td>0</td>\n",
       "      <td>0</td>\n",
       "      <td>0</td>\n",
       "      <td>0</td>\n",
       "      <td>0</td>\n",
       "      <td>0</td>\n",
       "      <td>0</td>\n",
       "    </tr>\n",
       "    <tr>\n",
       "      <th>2</th>\n",
       "      <td>1</td>\n",
       "      <td>0</td>\n",
       "      <td>0</td>\n",
       "      <td>0</td>\n",
       "      <td>0</td>\n",
       "      <td>0</td>\n",
       "      <td>0</td>\n",
       "      <td>0</td>\n",
       "      <td>0</td>\n",
       "      <td>0</td>\n",
       "    </tr>\n",
       "    <tr>\n",
       "      <th>3</th>\n",
       "      <td>0</td>\n",
       "      <td>0</td>\n",
       "      <td>0</td>\n",
       "      <td>1</td>\n",
       "      <td>0</td>\n",
       "      <td>0</td>\n",
       "      <td>0</td>\n",
       "      <td>0</td>\n",
       "      <td>0</td>\n",
       "      <td>0</td>\n",
       "    </tr>\n",
       "    <tr>\n",
       "      <th>4</th>\n",
       "      <td>1</td>\n",
       "      <td>0</td>\n",
       "      <td>0</td>\n",
       "      <td>0</td>\n",
       "      <td>0</td>\n",
       "      <td>0</td>\n",
       "      <td>0</td>\n",
       "      <td>0</td>\n",
       "      <td>0</td>\n",
       "      <td>0</td>\n",
       "    </tr>\n",
       "  </tbody>\n",
       "</table>\n",
       "</div>"
      ],
      "text/plain": [
       "   T-shirt/top  Trouser  Pullover  Dress  Coat  Sandal  Shirt  Sneaker  Bag  \\\n",
       "0            0        0         0      0     0       0      0        0    0   \n",
       "1            1        0         0      0     0       0      0        0    0   \n",
       "2            1        0         0      0     0       0      0        0    0   \n",
       "3            0        0         0      1     0       0      0        0    0   \n",
       "4            1        0         0      0     0       0      0        0    0   \n",
       "\n",
       "   Ankle_boot  \n",
       "0           1  \n",
       "1           0  \n",
       "2           0  \n",
       "3           0  \n",
       "4           0  "
      ]
     },
     "execution_count": 38,
     "metadata": {},
     "output_type": "execute_result"
    }
   ],
   "source": [
    "y_train = pd.get_dummies(y_train)\n",
    "y_train.columns = [\"T-shirt/top\",\"Trouser\",\"Pullover\", \"Dress\", \"Coat\",\"Sandal\",\"Shirt\",\"Sneaker\",\"Bag\" ,\"Ankle_boot\"]\n",
    "y_train.head()"
   ]
  },
  {
   "cell_type": "code",
   "execution_count": 39,
   "id": "58102641",
   "metadata": {
    "scrolled": true
   },
   "outputs": [
    {
     "data": {
      "text/html": [
       "<div>\n",
       "<style scoped>\n",
       "    .dataframe tbody tr th:only-of-type {\n",
       "        vertical-align: middle;\n",
       "    }\n",
       "\n",
       "    .dataframe tbody tr th {\n",
       "        vertical-align: top;\n",
       "    }\n",
       "\n",
       "    .dataframe thead th {\n",
       "        text-align: right;\n",
       "    }\n",
       "</style>\n",
       "<table border=\"1\" class=\"dataframe\">\n",
       "  <thead>\n",
       "    <tr style=\"text-align: right;\">\n",
       "      <th></th>\n",
       "      <th>T-shirt/top</th>\n",
       "      <th>Trouser</th>\n",
       "      <th>Pullover</th>\n",
       "      <th>Dress</th>\n",
       "      <th>Coat</th>\n",
       "      <th>Sandal</th>\n",
       "      <th>Shirt</th>\n",
       "      <th>Sneaker</th>\n",
       "      <th>Bag</th>\n",
       "      <th>Ankle_boot</th>\n",
       "    </tr>\n",
       "  </thead>\n",
       "  <tbody>\n",
       "    <tr>\n",
       "      <th>0</th>\n",
       "      <td>0</td>\n",
       "      <td>0</td>\n",
       "      <td>0</td>\n",
       "      <td>0</td>\n",
       "      <td>0</td>\n",
       "      <td>0</td>\n",
       "      <td>0</td>\n",
       "      <td>0</td>\n",
       "      <td>0</td>\n",
       "      <td>1</td>\n",
       "    </tr>\n",
       "    <tr>\n",
       "      <th>1</th>\n",
       "      <td>0</td>\n",
       "      <td>0</td>\n",
       "      <td>1</td>\n",
       "      <td>0</td>\n",
       "      <td>0</td>\n",
       "      <td>0</td>\n",
       "      <td>0</td>\n",
       "      <td>0</td>\n",
       "      <td>0</td>\n",
       "      <td>0</td>\n",
       "    </tr>\n",
       "    <tr>\n",
       "      <th>2</th>\n",
       "      <td>0</td>\n",
       "      <td>1</td>\n",
       "      <td>0</td>\n",
       "      <td>0</td>\n",
       "      <td>0</td>\n",
       "      <td>0</td>\n",
       "      <td>0</td>\n",
       "      <td>0</td>\n",
       "      <td>0</td>\n",
       "      <td>0</td>\n",
       "    </tr>\n",
       "    <tr>\n",
       "      <th>3</th>\n",
       "      <td>0</td>\n",
       "      <td>1</td>\n",
       "      <td>0</td>\n",
       "      <td>0</td>\n",
       "      <td>0</td>\n",
       "      <td>0</td>\n",
       "      <td>0</td>\n",
       "      <td>0</td>\n",
       "      <td>0</td>\n",
       "      <td>0</td>\n",
       "    </tr>\n",
       "    <tr>\n",
       "      <th>4</th>\n",
       "      <td>0</td>\n",
       "      <td>0</td>\n",
       "      <td>0</td>\n",
       "      <td>0</td>\n",
       "      <td>0</td>\n",
       "      <td>0</td>\n",
       "      <td>1</td>\n",
       "      <td>0</td>\n",
       "      <td>0</td>\n",
       "      <td>0</td>\n",
       "    </tr>\n",
       "  </tbody>\n",
       "</table>\n",
       "</div>"
      ],
      "text/plain": [
       "   T-shirt/top  Trouser  Pullover  Dress  Coat  Sandal  Shirt  Sneaker  Bag  \\\n",
       "0            0        0         0      0     0       0      0        0    0   \n",
       "1            0        0         1      0     0       0      0        0    0   \n",
       "2            0        1         0      0     0       0      0        0    0   \n",
       "3            0        1         0      0     0       0      0        0    0   \n",
       "4            0        0         0      0     0       0      1        0    0   \n",
       "\n",
       "   Ankle_boot  \n",
       "0           1  \n",
       "1           0  \n",
       "2           0  \n",
       "3           0  \n",
       "4           0  "
      ]
     },
     "execution_count": 39,
     "metadata": {},
     "output_type": "execute_result"
    }
   ],
   "source": [
    "y_test = pd.get_dummies(y_test)\n",
    "y_test.columns = [\"T-shirt/top\",\"Trouser\",\"Pullover\", \"Dress\", \"Coat\",\"Sandal\",\"Shirt\",\"Sneaker\",\"Bag\" ,\"Ankle_boot\"]\n",
    "y_test.head()"
   ]
  },
  {
   "cell_type": "markdown",
   "id": "4c5308a9",
   "metadata": {},
   "source": [
    "# Basic neural networks"
   ]
  },
  {
   "cell_type": "code",
   "execution_count": 40,
   "id": "ff9ce97b",
   "metadata": {},
   "outputs": [],
   "source": [
    "from tensorflow.keras.models import Sequential\n",
    "from tensorflow.keras.layers import Dense, Activation,Dropout,InputLayer\n",
    "from tensorflow.keras.optimizers import Adam\n",
    "from sklearn.metrics import classification_report,confusion_matrix"
   ]
  },
  {
   "cell_type": "markdown",
   "id": "6b1585ad",
   "metadata": {},
   "source": [
    "First model, rectified linear unit as activation function, one dropout layer"
   ]
  },
  {
   "cell_type": "code",
   "execution_count": 41,
   "id": "917aa8a8",
   "metadata": {},
   "outputs": [],
   "source": [
    "model1 = Sequential()\n",
    "model1.add(InputLayer(784))\n",
    "model1.add(Dense(128,activation = \"relu\"))\n",
    "model1.add(Dense(128,activation = \"relu\"))\n",
    "model1.add(Dense(128,activation = \"relu\"))\n",
    "model1.add(Dropout(0.3))\n",
    "\n",
    "model1.add(Dense(units=10, activation='softmax'))\n",
    "model1.compile(loss= \"CategoricalCrossentropy\",optimizer = Adam(learning_rate=0.001), metrics=['accuracy'])"
   ]
  },
  {
   "cell_type": "code",
   "execution_count": 42,
   "id": "696e5000",
   "metadata": {
    "scrolled": true
   },
   "outputs": [
    {
     "name": "stdout",
     "output_type": "stream",
     "text": [
      "Epoch 1/50\n",
      "469/469 [==============================] - 3s 6ms/step - loss: 0.5743 - accuracy: 0.7969 - val_loss: 0.4085 - val_accuracy: 0.8524\n",
      "Epoch 2/50\n",
      "469/469 [==============================] - 2s 5ms/step - loss: 0.3909 - accuracy: 0.8593 - val_loss: 0.3422 - val_accuracy: 0.8742\n",
      "Epoch 3/50\n",
      "469/469 [==============================] - 2s 5ms/step - loss: 0.3509 - accuracy: 0.8735 - val_loss: 0.3077 - val_accuracy: 0.8874\n",
      "Epoch 4/50\n",
      "469/469 [==============================] - 2s 5ms/step - loss: 0.3263 - accuracy: 0.8802 - val_loss: 0.2971 - val_accuracy: 0.8889\n",
      "Epoch 5/50\n",
      "469/469 [==============================] - 2s 5ms/step - loss: 0.3076 - accuracy: 0.8865 - val_loss: 0.2790 - val_accuracy: 0.8961\n",
      "Epoch 6/50\n",
      "469/469 [==============================] - 2s 5ms/step - loss: 0.2915 - accuracy: 0.8939 - val_loss: 0.2687 - val_accuracy: 0.8965\n",
      "Epoch 7/50\n",
      "469/469 [==============================] - 2s 5ms/step - loss: 0.2813 - accuracy: 0.8954 - val_loss: 0.2633 - val_accuracy: 0.9003\n",
      "Epoch 8/50\n",
      "469/469 [==============================] - 2s 5ms/step - loss: 0.2678 - accuracy: 0.9008 - val_loss: 0.2343 - val_accuracy: 0.9120\n",
      "Epoch 9/50\n",
      "469/469 [==============================] - 2s 5ms/step - loss: 0.2604 - accuracy: 0.9018 - val_loss: 0.2331 - val_accuracy: 0.9109\n",
      "Epoch 10/50\n",
      "469/469 [==============================] - 2s 5ms/step - loss: 0.2502 - accuracy: 0.9068 - val_loss: 0.2462 - val_accuracy: 0.9048\n",
      "Epoch 11/50\n",
      "469/469 [==============================] - 2s 5ms/step - loss: 0.2447 - accuracy: 0.9086 - val_loss: 0.2312 - val_accuracy: 0.9132\n",
      "Epoch 12/50\n",
      "469/469 [==============================] - 2s 5ms/step - loss: 0.2347 - accuracy: 0.9124 - val_loss: 0.2257 - val_accuracy: 0.9159\n",
      "Epoch 13/50\n",
      "469/469 [==============================] - 2s 5ms/step - loss: 0.2265 - accuracy: 0.9155 - val_loss: 0.2075 - val_accuracy: 0.9226\n",
      "Epoch 14/50\n",
      "469/469 [==============================] - 2s 5ms/step - loss: 0.2230 - accuracy: 0.9152 - val_loss: 0.2142 - val_accuracy: 0.9176\n",
      "Epoch 15/50\n",
      "469/469 [==============================] - 2s 5ms/step - loss: 0.2131 - accuracy: 0.9198 - val_loss: 0.1849 - val_accuracy: 0.9290\n",
      "Epoch 16/50\n",
      "469/469 [==============================] - 2s 5ms/step - loss: 0.2099 - accuracy: 0.9204 - val_loss: 0.1837 - val_accuracy: 0.9299\n",
      "Epoch 17/50\n",
      "469/469 [==============================] - 2s 5ms/step - loss: 0.2030 - accuracy: 0.9242 - val_loss: 0.1797 - val_accuracy: 0.9316\n",
      "Epoch 18/50\n",
      "469/469 [==============================] - 2s 5ms/step - loss: 0.1952 - accuracy: 0.9256 - val_loss: 0.1760 - val_accuracy: 0.9333\n",
      "Epoch 19/50\n",
      "469/469 [==============================] - 3s 6ms/step - loss: 0.1923 - accuracy: 0.9263 - val_loss: 0.1604 - val_accuracy: 0.9390\n",
      "Epoch 20/50\n",
      "469/469 [==============================] - 2s 5ms/step - loss: 0.1884 - accuracy: 0.9280 - val_loss: 0.1631 - val_accuracy: 0.9379\n",
      "Epoch 21/50\n",
      "469/469 [==============================] - 2s 5ms/step - loss: 0.1810 - accuracy: 0.9311 - val_loss: 0.1614 - val_accuracy: 0.9375\n",
      "Epoch 22/50\n",
      "469/469 [==============================] - 2s 5ms/step - loss: 0.1749 - accuracy: 0.9337 - val_loss: 0.1641 - val_accuracy: 0.9367\n",
      "Epoch 23/50\n",
      "469/469 [==============================] - 2s 5ms/step - loss: 0.1764 - accuracy: 0.9335 - val_loss: 0.1467 - val_accuracy: 0.9432\n",
      "Epoch 24/50\n",
      "469/469 [==============================] - 2s 5ms/step - loss: 0.1714 - accuracy: 0.9335 - val_loss: 0.1414 - val_accuracy: 0.9455\n",
      "Epoch 25/50\n",
      "469/469 [==============================] - 2s 5ms/step - loss: 0.1641 - accuracy: 0.9370 - val_loss: 0.1457 - val_accuracy: 0.9431\n",
      "Epoch 26/50\n",
      "469/469 [==============================] - 2s 5ms/step - loss: 0.1594 - accuracy: 0.9388 - val_loss: 0.1386 - val_accuracy: 0.9453\n",
      "Epoch 27/50\n",
      "469/469 [==============================] - 2s 5ms/step - loss: 0.1588 - accuracy: 0.9391 - val_loss: 0.1335 - val_accuracy: 0.9470\n",
      "Epoch 28/50\n",
      "469/469 [==============================] - 2s 5ms/step - loss: 0.1556 - accuracy: 0.9393 - val_loss: 0.1282 - val_accuracy: 0.9496\n",
      "Epoch 29/50\n",
      "469/469 [==============================] - 2s 5ms/step - loss: 0.1530 - accuracy: 0.9417 - val_loss: 0.1434 - val_accuracy: 0.9456\n",
      "Epoch 30/50\n",
      "469/469 [==============================] - 2s 5ms/step - loss: 0.1463 - accuracy: 0.9426 - val_loss: 0.1273 - val_accuracy: 0.9503\n",
      "Epoch 31/50\n",
      "469/469 [==============================] - 2s 5ms/step - loss: 0.1431 - accuracy: 0.9448 - val_loss: 0.1265 - val_accuracy: 0.9497\n",
      "Epoch 32/50\n",
      "469/469 [==============================] - 2s 5ms/step - loss: 0.1389 - accuracy: 0.9462 - val_loss: 0.1299 - val_accuracy: 0.9473\n",
      "Epoch 33/50\n",
      "469/469 [==============================] - 2s 5ms/step - loss: 0.1351 - accuracy: 0.9474 - val_loss: 0.1165 - val_accuracy: 0.9532\n",
      "Epoch 34/50\n",
      "469/469 [==============================] - 2s 5ms/step - loss: 0.1308 - accuracy: 0.9481 - val_loss: 0.1114 - val_accuracy: 0.9574\n",
      "Epoch 35/50\n",
      "469/469 [==============================] - 2s 5ms/step - loss: 0.1269 - accuracy: 0.9503 - val_loss: 0.1014 - val_accuracy: 0.9598\n",
      "Epoch 36/50\n",
      "469/469 [==============================] - 2s 5ms/step - loss: 0.1309 - accuracy: 0.9490 - val_loss: 0.1165 - val_accuracy: 0.9552\n",
      "Epoch 37/50\n",
      "469/469 [==============================] - 2s 5ms/step - loss: 0.1229 - accuracy: 0.9523 - val_loss: 0.1072 - val_accuracy: 0.9577\n",
      "Epoch 38/50\n",
      "469/469 [==============================] - 2s 5ms/step - loss: 0.1235 - accuracy: 0.9513 - val_loss: 0.1048 - val_accuracy: 0.9571\n",
      "Epoch 39/50\n",
      "469/469 [==============================] - 2s 5ms/step - loss: 0.1219 - accuracy: 0.9534 - val_loss: 0.0984 - val_accuracy: 0.9612\n",
      "Epoch 40/50\n",
      "469/469 [==============================] - 2s 5ms/step - loss: 0.1168 - accuracy: 0.9543 - val_loss: 0.1027 - val_accuracy: 0.9589\n",
      "Epoch 41/50\n",
      "469/469 [==============================] - 2s 5ms/step - loss: 0.1146 - accuracy: 0.9552 - val_loss: 0.0970 - val_accuracy: 0.9626\n",
      "Epoch 42/50\n",
      "469/469 [==============================] - 2s 5ms/step - loss: 0.1116 - accuracy: 0.9563 - val_loss: 0.0989 - val_accuracy: 0.9610\n",
      "Epoch 43/50\n",
      "469/469 [==============================] - 2s 5ms/step - loss: 0.1128 - accuracy: 0.9558 - val_loss: 0.0912 - val_accuracy: 0.9616\n",
      "Epoch 44/50\n",
      "469/469 [==============================] - 2s 5ms/step - loss: 0.1095 - accuracy: 0.9570 - val_loss: 0.0983 - val_accuracy: 0.9615\n",
      "Epoch 45/50\n",
      "469/469 [==============================] - 2s 5ms/step - loss: 0.1098 - accuracy: 0.9565 - val_loss: 0.0908 - val_accuracy: 0.9650\n",
      "Epoch 46/50\n",
      "469/469 [==============================] - 2s 5ms/step - loss: 0.1025 - accuracy: 0.9596 - val_loss: 0.0941 - val_accuracy: 0.9613\n",
      "Epoch 47/50\n",
      "469/469 [==============================] - 2s 5ms/step - loss: 0.1050 - accuracy: 0.9585 - val_loss: 0.0760 - val_accuracy: 0.9693\n",
      "Epoch 48/50\n",
      "469/469 [==============================] - 2s 5ms/step - loss: 0.1033 - accuracy: 0.9589 - val_loss: 0.0997 - val_accuracy: 0.9591\n",
      "Epoch 49/50\n",
      "469/469 [==============================] - 2s 5ms/step - loss: 0.0958 - accuracy: 0.9617 - val_loss: 0.0923 - val_accuracy: 0.9623\n",
      "Epoch 50/50\n",
      "469/469 [==============================] - 2s 5ms/step - loss: 0.0979 - accuracy: 0.9612 - val_loss: 0.0803 - val_accuracy: 0.9682\n"
     ]
    },
    {
     "data": {
      "text/plain": [
       "<keras.callbacks.History at 0x207a42d0970>"
      ]
     },
     "execution_count": 42,
     "metadata": {},
     "output_type": "execute_result"
    }
   ],
   "source": [
    "model1.fit(X_train_flat, y_train, batch_size=128, epochs=50, verbose=1,validation_data=(X_train_flat, y_train))"
   ]
  },
  {
   "cell_type": "markdown",
   "id": "3f578cf6",
   "metadata": {},
   "source": [
    "Making predictions, and converting to categorical values from propability"
   ]
  },
  {
   "cell_type": "code",
   "execution_count": 43,
   "id": "bdd2c079",
   "metadata": {},
   "outputs": [
    {
     "name": "stdout",
     "output_type": "stream",
     "text": [
      "313/313 [==============================] - 0s 1ms/step\n"
     ]
    }
   ],
   "source": [
    "predictions = model1.predict(X_test_flat)\n",
    "for  index,prediction_vector in enumerate(predictions):\n",
    "    max_index = np.argmax(prediction_vector)\n",
    "    predictions[index] = np.zeros(len(prediction_vector))\n",
    "    predictions[index][max_index] = 1"
   ]
  },
  {
   "cell_type": "code",
   "execution_count": 44,
   "id": "9597e0e1",
   "metadata": {},
   "outputs": [
    {
     "name": "stdout",
     "output_type": "stream",
     "text": [
      "              precision    recall  f1-score   support\n",
      "\n",
      "           0       0.82      0.87      0.84       936\n",
      "           1       0.98      0.98      0.98       994\n",
      "           2       0.82      0.82      0.82       996\n",
      "           3       0.91      0.88      0.89      1031\n",
      "           4       0.84      0.81      0.83      1039\n",
      "           5       0.96      0.98      0.97       977\n",
      "           6       0.72      0.73      0.72       991\n",
      "           7       0.97      0.95      0.96      1028\n",
      "           8       0.98      0.97      0.97      1010\n",
      "           9       0.96      0.96      0.96       998\n",
      "\n",
      "   micro avg       0.90      0.90      0.90     10000\n",
      "   macro avg       0.90      0.90      0.90     10000\n",
      "weighted avg       0.90      0.90      0.90     10000\n",
      " samples avg       0.90      0.90      0.90     10000\n",
      "\n"
     ]
    }
   ],
   "source": [
    "print(classification_report(predictions,y_test))"
   ]
  },
  {
   "cell_type": "markdown",
   "id": "51333d13",
   "metadata": {},
   "source": [
    "Secound model tanh as activation function, one dropout layer"
   ]
  },
  {
   "cell_type": "code",
   "execution_count": 45,
   "id": "fd32a1be",
   "metadata": {},
   "outputs": [],
   "source": [
    "model2 = Sequential()\n",
    "model2.add(InputLayer(784))\n",
    "model2.add(Dense(128,activation = \"tanh\"))\n",
    "model2.add(Dense(128,activation = \"tanh\"))\n",
    "model2.add(Dense(128,activation = \"tanh\"))\n",
    "model2.add(Dropout(0.3))\n",
    "\n",
    "model2.add(Dense(units=10, activation='softmax'))\n",
    "model2.compile(loss= \"CategoricalCrossentropy\",optimizer = Adam(learning_rate=0.001), metrics=['accuracy'])"
   ]
  },
  {
   "cell_type": "code",
   "execution_count": 46,
   "id": "eaf2cc18",
   "metadata": {},
   "outputs": [
    {
     "name": "stdout",
     "output_type": "stream",
     "text": [
      "Epoch 1/50\n",
      "469/469 [==============================] - 3s 6ms/step - loss: 0.5398 - accuracy: 0.8062 - val_loss: 0.4389 - val_accuracy: 0.8346\n",
      "Epoch 2/50\n",
      "469/469 [==============================] - 3s 5ms/step - loss: 0.4003 - accuracy: 0.8557 - val_loss: 0.3641 - val_accuracy: 0.8659\n",
      "Epoch 3/50\n",
      "469/469 [==============================] - 2s 5ms/step - loss: 0.3626 - accuracy: 0.8688 - val_loss: 0.3131 - val_accuracy: 0.8857\n",
      "Epoch 4/50\n",
      "469/469 [==============================] - 3s 5ms/step - loss: 0.3368 - accuracy: 0.8770 - val_loss: 0.3191 - val_accuracy: 0.8820\n",
      "Epoch 5/50\n",
      "469/469 [==============================] - 2s 5ms/step - loss: 0.3204 - accuracy: 0.8836 - val_loss: 0.3173 - val_accuracy: 0.8819\n",
      "Epoch 6/50\n",
      "469/469 [==============================] - 2s 5ms/step - loss: 0.3021 - accuracy: 0.8896 - val_loss: 0.2712 - val_accuracy: 0.8999\n",
      "Epoch 7/50\n",
      "469/469 [==============================] - 2s 5ms/step - loss: 0.2926 - accuracy: 0.8925 - val_loss: 0.2711 - val_accuracy: 0.9010\n",
      "Epoch 8/50\n",
      "469/469 [==============================] - 2s 5ms/step - loss: 0.2809 - accuracy: 0.8961 - val_loss: 0.2619 - val_accuracy: 0.9039\n",
      "Epoch 9/50\n",
      "469/469 [==============================] - 2s 5ms/step - loss: 0.2714 - accuracy: 0.9015 - val_loss: 0.2418 - val_accuracy: 0.9100\n",
      "Epoch 10/50\n",
      "469/469 [==============================] - 2s 5ms/step - loss: 0.2624 - accuracy: 0.9013 - val_loss: 0.2495 - val_accuracy: 0.9055\n",
      "Epoch 11/50\n",
      "469/469 [==============================] - 3s 5ms/step - loss: 0.2514 - accuracy: 0.9076 - val_loss: 0.2417 - val_accuracy: 0.9093\n",
      "Epoch 12/50\n",
      "469/469 [==============================] - 2s 5ms/step - loss: 0.2443 - accuracy: 0.9103 - val_loss: 0.2188 - val_accuracy: 0.9187\n",
      "Epoch 13/50\n",
      "469/469 [==============================] - 2s 5ms/step - loss: 0.2379 - accuracy: 0.9115 - val_loss: 0.2235 - val_accuracy: 0.9162\n",
      "Epoch 14/50\n",
      "469/469 [==============================] - 2s 5ms/step - loss: 0.2312 - accuracy: 0.9143 - val_loss: 0.2190 - val_accuracy: 0.9181\n",
      "Epoch 15/50\n",
      "469/469 [==============================] - 2s 5ms/step - loss: 0.2244 - accuracy: 0.9173 - val_loss: 0.1948 - val_accuracy: 0.9279\n",
      "Epoch 16/50\n",
      "469/469 [==============================] - 2s 5ms/step - loss: 0.2182 - accuracy: 0.9195 - val_loss: 0.1962 - val_accuracy: 0.9270\n",
      "Epoch 17/50\n",
      "469/469 [==============================] - 2s 5ms/step - loss: 0.2108 - accuracy: 0.9218 - val_loss: 0.1849 - val_accuracy: 0.9316\n",
      "Epoch 18/50\n",
      "469/469 [==============================] - 2s 5ms/step - loss: 0.2079 - accuracy: 0.9222 - val_loss: 0.1973 - val_accuracy: 0.9256\n",
      "Epoch 19/50\n",
      "469/469 [==============================] - 2s 5ms/step - loss: 0.2029 - accuracy: 0.9243 - val_loss: 0.2042 - val_accuracy: 0.9228\n",
      "Epoch 20/50\n",
      "469/469 [==============================] - 2s 5ms/step - loss: 0.1949 - accuracy: 0.9267 - val_loss: 0.1783 - val_accuracy: 0.9335\n",
      "Epoch 21/50\n",
      "469/469 [==============================] - 2s 5ms/step - loss: 0.1894 - accuracy: 0.9292 - val_loss: 0.1765 - val_accuracy: 0.9346\n",
      "Epoch 22/50\n",
      "469/469 [==============================] - 2s 5ms/step - loss: 0.1836 - accuracy: 0.9315 - val_loss: 0.1591 - val_accuracy: 0.9405\n",
      "Epoch 23/50\n",
      "469/469 [==============================] - 2s 5ms/step - loss: 0.1810 - accuracy: 0.9335 - val_loss: 0.1553 - val_accuracy: 0.9415\n",
      "Epoch 24/50\n",
      "469/469 [==============================] - 2s 5ms/step - loss: 0.1746 - accuracy: 0.9348 - val_loss: 0.1427 - val_accuracy: 0.9477\n",
      "Epoch 25/50\n",
      "469/469 [==============================] - 2s 5ms/step - loss: 0.1689 - accuracy: 0.9371 - val_loss: 0.1420 - val_accuracy: 0.9488\n",
      "Epoch 26/50\n",
      "469/469 [==============================] - 2s 5ms/step - loss: 0.1663 - accuracy: 0.9379 - val_loss: 0.1378 - val_accuracy: 0.9482\n",
      "Epoch 27/50\n",
      "469/469 [==============================] - 2s 5ms/step - loss: 0.1652 - accuracy: 0.9378 - val_loss: 0.1510 - val_accuracy: 0.9434\n",
      "Epoch 28/50\n",
      "469/469 [==============================] - 2s 5ms/step - loss: 0.1545 - accuracy: 0.9420 - val_loss: 0.1379 - val_accuracy: 0.9504\n",
      "Epoch 29/50\n",
      "469/469 [==============================] - 2s 5ms/step - loss: 0.1570 - accuracy: 0.9422 - val_loss: 0.1297 - val_accuracy: 0.9537\n",
      "Epoch 30/50\n",
      "469/469 [==============================] - 2s 5ms/step - loss: 0.1486 - accuracy: 0.9446 - val_loss: 0.1367 - val_accuracy: 0.9492\n",
      "Epoch 31/50\n",
      "469/469 [==============================] - 2s 5ms/step - loss: 0.1476 - accuracy: 0.9452 - val_loss: 0.1441 - val_accuracy: 0.9461\n",
      "Epoch 32/50\n",
      "469/469 [==============================] - 2s 5ms/step - loss: 0.1441 - accuracy: 0.9476 - val_loss: 0.1357 - val_accuracy: 0.9492\n",
      "Epoch 33/50\n",
      "469/469 [==============================] - 2s 5ms/step - loss: 0.1392 - accuracy: 0.9486 - val_loss: 0.1221 - val_accuracy: 0.9557\n",
      "Epoch 34/50\n",
      "469/469 [==============================] - 2s 5ms/step - loss: 0.1357 - accuracy: 0.9496 - val_loss: 0.1166 - val_accuracy: 0.9584\n",
      "Epoch 35/50\n",
      "469/469 [==============================] - 2s 5ms/step - loss: 0.1326 - accuracy: 0.9517 - val_loss: 0.1098 - val_accuracy: 0.9598\n",
      "Epoch 36/50\n",
      "469/469 [==============================] - 2s 5ms/step - loss: 0.1313 - accuracy: 0.9512 - val_loss: 0.1069 - val_accuracy: 0.9607\n",
      "Epoch 37/50\n",
      "469/469 [==============================] - 2s 5ms/step - loss: 0.1252 - accuracy: 0.9544 - val_loss: 0.1125 - val_accuracy: 0.9581\n",
      "Epoch 38/50\n",
      "469/469 [==============================] - 2s 5ms/step - loss: 0.1218 - accuracy: 0.9550 - val_loss: 0.1146 - val_accuracy: 0.9568\n",
      "Epoch 39/50\n",
      "469/469 [==============================] - 2s 5ms/step - loss: 0.1201 - accuracy: 0.9551 - val_loss: 0.1496 - val_accuracy: 0.9406\n",
      "Epoch 40/50\n",
      "469/469 [==============================] - 2s 5ms/step - loss: 0.1158 - accuracy: 0.9580 - val_loss: 0.1049 - val_accuracy: 0.9617\n",
      "Epoch 41/50\n",
      "469/469 [==============================] - 2s 5ms/step - loss: 0.1089 - accuracy: 0.9605 - val_loss: 0.1123 - val_accuracy: 0.9578\n",
      "Epoch 42/50\n",
      "469/469 [==============================] - 2s 5ms/step - loss: 0.1109 - accuracy: 0.9589 - val_loss: 0.0978 - val_accuracy: 0.9634\n",
      "Epoch 43/50\n",
      "469/469 [==============================] - 2s 5ms/step - loss: 0.1050 - accuracy: 0.9610 - val_loss: 0.0996 - val_accuracy: 0.9629\n",
      "Epoch 44/50\n",
      "469/469 [==============================] - 2s 5ms/step - loss: 0.1036 - accuracy: 0.9626 - val_loss: 0.0808 - val_accuracy: 0.9718\n",
      "Epoch 45/50\n",
      "469/469 [==============================] - 2s 5ms/step - loss: 0.1010 - accuracy: 0.9632 - val_loss: 0.0830 - val_accuracy: 0.9711\n",
      "Epoch 46/50\n",
      "469/469 [==============================] - 2s 5ms/step - loss: 0.0985 - accuracy: 0.9635 - val_loss: 0.1071 - val_accuracy: 0.9614\n",
      "Epoch 47/50\n",
      "469/469 [==============================] - 2s 5ms/step - loss: 0.0944 - accuracy: 0.9654 - val_loss: 0.0738 - val_accuracy: 0.9737\n",
      "Epoch 48/50\n",
      "469/469 [==============================] - 2s 5ms/step - loss: 0.0956 - accuracy: 0.9649 - val_loss: 0.1015 - val_accuracy: 0.9628\n",
      "Epoch 49/50\n",
      "469/469 [==============================] - 2s 5ms/step - loss: 0.0944 - accuracy: 0.9655 - val_loss: 0.0811 - val_accuracy: 0.9711\n",
      "Epoch 50/50\n",
      "469/469 [==============================] - 2s 5ms/step - loss: 0.0926 - accuracy: 0.9655 - val_loss: 0.0701 - val_accuracy: 0.9758\n"
     ]
    },
    {
     "data": {
      "text/plain": [
       "<keras.callbacks.History at 0x207a13f83d0>"
      ]
     },
     "execution_count": 46,
     "metadata": {},
     "output_type": "execute_result"
    }
   ],
   "source": [
    "model2.fit(X_train_flat, y_train, batch_size=128, epochs=50, verbose=1,validation_data=(X_train_flat, y_train))"
   ]
  },
  {
   "cell_type": "code",
   "execution_count": 47,
   "id": "5bc6d730",
   "metadata": {},
   "outputs": [
    {
     "name": "stdout",
     "output_type": "stream",
     "text": [
      "313/313 [==============================] - 0s 1ms/step\n"
     ]
    }
   ],
   "source": [
    "predictions = model1.predict(X_test_flat)\n",
    "for  index,prediction_vector in enumerate(predictions):\n",
    "    max_index = np.argmax(prediction_vector)\n",
    "    predictions[index] = np.zeros(len(prediction_vector))\n",
    "    predictions[index][max_index] = 1"
   ]
  },
  {
   "cell_type": "code",
   "execution_count": 48,
   "id": "7cd6043e",
   "metadata": {},
   "outputs": [
    {
     "name": "stdout",
     "output_type": "stream",
     "text": [
      "              precision    recall  f1-score   support\n",
      "\n",
      "           0       0.82      0.87      0.84       936\n",
      "           1       0.98      0.98      0.98       994\n",
      "           2       0.82      0.82      0.82       996\n",
      "           3       0.91      0.88      0.89      1031\n",
      "           4       0.84      0.81      0.83      1039\n",
      "           5       0.96      0.98      0.97       977\n",
      "           6       0.72      0.73      0.72       991\n",
      "           7       0.97      0.95      0.96      1028\n",
      "           8       0.98      0.97      0.97      1010\n",
      "           9       0.96      0.96      0.96       998\n",
      "\n",
      "   micro avg       0.90      0.90      0.90     10000\n",
      "   macro avg       0.90      0.90      0.90     10000\n",
      "weighted avg       0.90      0.90      0.90     10000\n",
      " samples avg       0.90      0.90      0.90     10000\n",
      "\n"
     ]
    }
   ],
   "source": [
    "print(classification_report(predictions,y_test))"
   ]
  },
  {
   "cell_type": "code",
   "execution_count": null,
   "id": "2c3afc92",
   "metadata": {},
   "outputs": [],
   "source": []
  }
 ],
 "metadata": {
  "kernelspec": {
   "display_name": "Python 3",
   "language": "python",
   "name": "python3"
  },
  "language_info": {
   "codemirror_mode": {
    "name": "ipython",
    "version": 3
   },
   "file_extension": ".py",
   "mimetype": "text/x-python",
   "name": "python",
   "nbconvert_exporter": "python",
   "pygments_lexer": "ipython3",
   "version": "3.8.8"
  }
 },
 "nbformat": 4,
 "nbformat_minor": 5
}
